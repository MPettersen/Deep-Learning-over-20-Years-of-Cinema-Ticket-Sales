{
 "cells": [
  {
   "cell_type": "code",
   "execution_count": 1,
   "metadata": {},
   "outputs": [],
   "source": [
    "%reload_ext autoreload\n",
    "%autoreload 2\n",
    "%matplotlib inline"
   ]
  },
  {
   "cell_type": "code",
   "execution_count": 2,
   "metadata": {},
   "outputs": [],
   "source": [
    "import numpy as np\n",
    "import pandas as pd\n",
    "import datetime as dt\n",
    "import holidays\n",
    "\n",
    "from joblib import load, dump\n",
    "from fastai.tabular import transform\n",
    "from sklearn.feature_extraction.text import TfidfVectorizer"
   ]
  },
  {
   "cell_type": "code",
   "execution_count": 7,
   "metadata": {},
   "outputs": [],
   "source": [
    "data = '../data/'"
   ]
  },
  {
   "cell_type": "code",
   "execution_count": 4,
   "metadata": {},
   "outputs": [],
   "source": [
    "showings = load(data+'showings_dropped_NaN.joblib')\n",
    "showings.replace(np.inf, 0, inplace=True)\n",
    "showings.reset_index(drop=True, inplace=True)\n",
    "genres = load(data+'genres.joblib')"
   ]
  },
  {
   "cell_type": "markdown",
   "metadata": {},
   "source": [
    "# Extract features realted to the showtime\n",
    "\n",
    "Features extracted:\n",
    "- day of week (mon-sun as 0-6)\n",
    "- month of year (jan-des as 0-11)\n",
    "- year\n",
    "- hour of day (0-23)\n",
    "- minutes after hour (0-59)\n",
    "- days since release\n",
    "  - Because of inaccuracies and anomalies I have set some restriction to this metric. If the days since release is more than 150 days, roughly half a year, than it is set to 150 days. If the showtime is set before the release date then I view it as a preshowing and it is set to -1 no matter the actual difference."
   ]
  },
  {
   "cell_type": "code",
   "execution_count": 7,
   "metadata": {},
   "outputs": [
    {
     "data": {
      "text/plain": [
       "0   2017-12-14 11:30:00\n",
       "1   2018-07-19 20:00:00\n",
       "2   2019-12-25 16:30:00\n",
       "3   2018-07-21 19:45:00\n",
       "4   2019-12-14 16:00:00\n",
       "Name: showtime, dtype: datetime64[ns]"
      ]
     },
     "execution_count": 7,
     "metadata": {},
     "output_type": "execute_result"
    }
   ],
   "source": [
    "showings.showtime.head()"
   ]
  },
  {
   "cell_type": "code",
   "execution_count": 8,
   "metadata": {},
   "outputs": [],
   "source": [
    "transform.add_datepart(showings, 'showtime', drop=False, time=True)\n",
    "transform.add_cyclic_datepart(showings, 'showtime', drop=False, time=True)\n",
    "showtimes = showings.showtime.tolist()\n",
    "norway_holidays = holidays.Norway(include_sundays=False)\n",
    "showings_holidays = [t in norway_holidays for t in showtimes]\n",
    "showings['is_holiday'] = showings_holidays"
   ]
  },
  {
   "cell_type": "code",
   "execution_count": 9,
   "metadata": {},
   "outputs": [],
   "source": [
    "times   = showings.showtime.tolist()\n",
    "release = showings.tmdb_release_date.tolist()"
   ]
  },
  {
   "cell_type": "code",
   "execution_count": 10,
   "metadata": {},
   "outputs": [
    {
     "name": "stdout",
     "output_type": "stream",
     "text": [
      "Wall time: 33.4 s\n"
     ]
    }
   ],
   "source": [
    "%%time\n",
    "since_release = list()\n",
    "for t, r in zip(times, release):\n",
    "    if r != '':\n",
    "        days_since_release = (t - dt.datetime.strptime(r, '%Y-%m-%d')).days\n",
    "    else:\n",
    "        days_since_release = 100\n",
    "    if days_since_release < 0: days_since_release = -1\n",
    "    if days_since_release > 150: days_since_release = 150\n",
    "    since_release.append(days_since_release)"
   ]
  },
  {
   "cell_type": "code",
   "execution_count": 11,
   "metadata": {},
   "outputs": [],
   "source": [
    "showings['days_since_release'] = since_release"
   ]
  },
  {
   "cell_type": "markdown",
   "metadata": {},
   "source": [
    "# One-Hot encoding of the genre feature"
   ]
  },
  {
   "cell_type": "code",
   "execution_count": 8,
   "metadata": {},
   "outputs": [
    {
     "name": "stdout",
     "output_type": "stream",
     "text": [
      "Wall time: 6.07 s\n"
     ]
    }
   ],
   "source": [
    "%%time\n",
    "\n",
    "genre_list = showings.tmdb_genre_ids.tolist()\n",
    "\n",
    "one_hot_genres = {i: list() for _, i in genres.items()}\n",
    "\n",
    "for i, j in enumerate(genre_list):\n",
    "    i += 1\n",
    "    for k in j:\n",
    "        one_hot_genres[genres[k]].append(True)  # True if the movie belonged to the genre\n",
    "    for _, n in one_hot_genres.items():\n",
    "        if len(n) != i: n.append(False)         # False if the movie did not belong to the genre\n",
    "\n",
    "for i, j in one_hot_genres.items():\n",
    "    showings[i] = j"
   ]
  },
  {
   "cell_type": "markdown",
   "metadata": {},
   "source": [
    "# This was discarded for use in the final model, but the code is kept for future use if needed\n",
    "\n",
    "\n",
    "# Getting TF-IDF score on text based fields\n",
    "\n",
    "- title\n",
    "- stripped_title\n",
    "- tmdb_original_title\n",
    "- tmdb_overview"
   ]
  },
  {
   "cell_type": "code",
   "execution_count": 15,
   "metadata": {},
   "outputs": [],
   "source": [
    "full_titles     = showings.full_title.tolist()\n",
    "stripped_titles = showings.stripped_title.tolist()\n",
    "tmdb_titles     = showings.tmdb_original_title.tolist()\n",
    "overviews       = showings.tmdb_overview.tolist()"
   ]
  },
  {
   "cell_type": "markdown",
   "metadata": {},
   "source": [
    "## TF-IDF of overviews"
   ]
  },
  {
   "cell_type": "code",
   "execution_count": 16,
   "metadata": {},
   "outputs": [
    {
     "data": {
      "text/plain": [
       "((1134202, 23242), (1134202,))"
      ]
     },
     "execution_count": 16,
     "metadata": {},
     "output_type": "execute_result"
    }
   ],
   "source": [
    "overveiw_vectorizer = TfidfVectorizer()\n",
    "tfidf_overview = overveiw_vectorizer.fit_transform(overviews)\n",
    "\n",
    "sum_tfidf_overview = np.asarray(tfidf_overview.sum(axis=1).T)[0]\n",
    "\n",
    "tfidf_overview.shape, sum_tfidf_overview.shape"
   ]
  },
  {
   "cell_type": "markdown",
   "metadata": {},
   "source": [
    "## TF-IDF of full_titles"
   ]
  },
  {
   "cell_type": "code",
   "execution_count": 17,
   "metadata": {},
   "outputs": [
    {
     "data": {
      "text/plain": [
       "((1134202, 6025), (1134202,))"
      ]
     },
     "execution_count": 17,
     "metadata": {},
     "output_type": "execute_result"
    }
   ],
   "source": [
    "full_titles_vectorizer = TfidfVectorizer()\n",
    "tfidf_full_titles = full_titles_vectorizer.fit_transform(full_titles)\n",
    "\n",
    "sum_tfidf_full_titles = np.asarray(tfidf_full_titles.sum(axis=1).T)[0]\n",
    "\n",
    "tfidf_full_titles.shape, sum_tfidf_full_titles.shape"
   ]
  },
  {
   "cell_type": "markdown",
   "metadata": {},
   "source": [
    "## TF-IDF of |stripped_titles"
   ]
  },
  {
   "cell_type": "code",
   "execution_count": 18,
   "metadata": {},
   "outputs": [
    {
     "data": {
      "text/plain": [
       "((1134202, 5873), (1134202,))"
      ]
     },
     "execution_count": 18,
     "metadata": {},
     "output_type": "execute_result"
    }
   ],
   "source": [
    "stripped_titles_vectorizer = TfidfVectorizer()\n",
    "tfidf_stripped_titles = stripped_titles_vectorizer.fit_transform(stripped_titles)\n",
    "\n",
    "sum_tfidf_stripped_titles = np.asarray(tfidf_stripped_titles.sum(axis=1).T)[0]\n",
    "\n",
    "tfidf_stripped_titles.shape, sum_tfidf_stripped_titles.shape"
   ]
  },
  {
   "cell_type": "markdown",
   "metadata": {},
   "source": [
    "## TF-IDF of tmdb_titles"
   ]
  },
  {
   "cell_type": "code",
   "execution_count": 19,
   "metadata": {},
   "outputs": [
    {
     "data": {
      "text/plain": [
       "((1134202, 6654), (1134202,))"
      ]
     },
     "execution_count": 19,
     "metadata": {},
     "output_type": "execute_result"
    }
   ],
   "source": [
    "tmdb_titles_vectorizer = TfidfVectorizer()\n",
    "tfidf_tmdb_titles = tmdb_titles_vectorizer.fit_transform(tmdb_titles)\n",
    "\n",
    "sum_tfidf_tmdb_titles = np.asarray(tfidf_tmdb_titles.sum(axis=1).T)[0]\n",
    "\n",
    "tfidf_tmdb_titles.shape, sum_tfidf_tmdb_titles.shape"
   ]
  },
  {
   "cell_type": "markdown",
   "metadata": {},
   "source": [
    "## Setting the features into the dataset"
   ]
  },
  {
   "cell_type": "code",
   "execution_count": 20,
   "metadata": {},
   "outputs": [],
   "source": [
    "showings['tfidf_overview'] = sum_tfidf_overview\n",
    "showings['tfidf_full_title'] = sum_tfidf_full_titles\n",
    "showings['tfidf_stripped_title'] = sum_tfidf_stripped_titles\n",
    "showings['tfidf_tmdb_title'] = sum_tfidf_tmdb_titles"
   ]
  },
  {
   "cell_type": "code",
   "execution_count": 10,
   "metadata": {},
   "outputs": [
    {
     "data": {
      "text/plain": [
       "['../data/showings_extra_feature.joblib']"
      ]
     },
     "execution_count": 10,
     "metadata": {},
     "output_type": "execute_result"
    }
   ],
   "source": [
    "dump(showings, data+'showings_extra_feature.joblib')"
   ]
  },
  {
   "cell_type": "code",
   "execution_count": 4,
   "metadata": {},
   "outputs": [],
   "source": [
    "showings = load(data+'showings_extra_feature.joblib')"
   ]
  }
 ],
 "metadata": {
  "kernelspec": {
   "display_name": "Python 3",
   "language": "python",
   "name": "python3"
  },
  "language_info": {
   "codemirror_mode": {
    "name": "ipython",
    "version": 3
   },
   "file_extension": ".py",
   "mimetype": "text/x-python",
   "name": "python",
   "nbconvert_exporter": "python",
   "pygments_lexer": "ipython3",
   "version": "3.7.2"
  }
 },
 "nbformat": 4,
 "nbformat_minor": 4
}
