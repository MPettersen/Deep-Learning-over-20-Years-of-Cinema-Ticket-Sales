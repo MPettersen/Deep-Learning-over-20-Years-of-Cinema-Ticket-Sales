{
 "cells": [
  {
   "cell_type": "markdown",
   "metadata": {},
   "source": [
    "# Notebook for aggregating data from different sources\n",
    "\n",
    "### Sources:\n",
    "- DX\n",
    "- TMDb"
   ]
  },
  {
   "cell_type": "code",
   "execution_count": 1,
   "metadata": {},
   "outputs": [],
   "source": [
    "import numpy as np\n",
    "import pandas as pd\n",
    "from joblib import load, dump\n",
    "from tmdbv3api import TMDb, Movie"
   ]
  },
  {
   "cell_type": "markdown",
   "metadata": {},
   "source": [
    "### Establishing a connection with the TMDb API"
   ]
  },
  {
   "cell_type": "code",
   "execution_count": 2,
   "metadata": {},
   "outputs": [],
   "source": [
    "with open('C:/Users/marku/OneDrive/Skrivebord/TMDBkeys.txt') as keys:\n",
    "    application_key = keys.readline().strip()\n",
    "tmdb = TMDb()\n",
    "tmdb.api_key = application_key\n",
    "tmdb.language = 'en'\n",
    "movie = Movie()"
   ]
  },
  {
   "cell_type": "code",
   "execution_count": 3,
   "metadata": {},
   "outputs": [],
   "source": [
    "data = '../data/'"
   ]
  },
  {
   "cell_type": "code",
   "execution_count": 4,
   "metadata": {},
   "outputs": [],
   "source": [
    "movie_det = load(data+'movie_details.joblib')"
   ]
  },
  {
   "cell_type": "markdown",
   "metadata": {},
   "source": [
    "# Combine DX and TMDb"
   ]
  },
  {
   "cell_type": "code",
   "execution_count": 5,
   "metadata": {},
   "outputs": [],
   "source": [
    "showings = load(data+'showings.joblib')"
   ]
  },
  {
   "cell_type": "code",
   "execution_count": 6,
   "metadata": {},
   "outputs": [],
   "source": [
    "showtimes = list(showings.loc[:, 'showtime'].dt.strftime('%Y'))\n",
    "titles = list(showings.loc[:, 'stripped_title'])"
   ]
  },
  {
   "cell_type": "code",
   "execution_count": 15,
   "metadata": {},
   "outputs": [
    {
     "name": "stdout",
     "output_type": "stream",
     "text": [
      "30106 \t/\t 1216966\n",
      "60885 \t/\t 1216966\n",
      "91916 \t/\t 1216966\n",
      "122548 \t/\t 1216966\n",
      "153218 \t/\t 1216966\n",
      "184148 \t/\t 1216966\n",
      "214744 \t/\t 1216966\n",
      "245462 \t/\t 1216966\n",
      "276351 \t/\t 1216966\n",
      "306515 \t/\t 1216966\n",
      "336863 \t/\t 1216966\n",
      "367163 \t/\t 1216966\n",
      "398010 \t/\t 1216966\n",
      "429017 \t/\t 1216966\n",
      "460174 \t/\t 1216966\n",
      "490974 \t/\t 1216966\n",
      "522202 \t/\t 1216966\n",
      "553431 \t/\t 1216966\n",
      "584211 \t/\t 1216966\n",
      "615494 \t/\t 1216966\n",
      "646675 \t/\t 1216966\n",
      "677590 \t/\t 1216966\n",
      "708761 \t/\t 1216966\n",
      "739475 \t/\t 1216966\n",
      "770592 \t/\t 1216966\n",
      "801520 \t/\t 1216966\n",
      "832621 \t/\t 1216966\n",
      "863701 \t/\t 1216966\n",
      "894413 \t/\t 1216966\n",
      "924574 \t/\t 1216966\n",
      "955471 \t/\t 1216966\n",
      "986537 \t/\t 1216966\n",
      "1017649 \t/\t 1216966\n",
      "1048574 \t/\t 1216966\n",
      "1079630 \t/\t 1216966\n",
      "1110581 \t/\t 1216966\n",
      "1140983 \t/\t 1216966\n",
      "1172262 \t/\t 1216966\n",
      "1203458 \t/\t 1216966\n",
      "Wall time: 39min 32s\n"
     ]
    }
   ],
   "source": [
    "%%time\n",
    "start = time()\n",
    "append = list()\n",
    "l = len(showtimes)\n",
    "for i, year in enumerate(showtimes):\n",
    "    append.append(movie_det.loc[(movie_det.show_year == year) & (movie_det.title == titles[i])].to_dict(orient='list'))\n",
    "    if time()-start > 60:\n",
    "        print(i, '\\t/\\t', l)\n",
    "        start = time()\n",
    "#     if i == 4: break\n",
    "# Removes the nested list from inside the dict\n",
    "for i in append:\n",
    "    for j in i:\n",
    "        if len(i[j]) == 0: i[j] = np.nan\n",
    "        else: i[j] = i[j][0]"
   ]
  },
  {
   "cell_type": "code",
   "execution_count": 17,
   "metadata": {},
   "outputs": [
    {
     "name": "stdout",
     "output_type": "stream",
     "text": [
      "Wall time: 4.66 s\n"
     ]
    },
    {
     "data": {
      "text/html": [
       "<div>\n",
       "<style scoped>\n",
       "    .dataframe tbody tr th:only-of-type {\n",
       "        vertical-align: middle;\n",
       "    }\n",
       "\n",
       "    .dataframe tbody tr th {\n",
       "        vertical-align: top;\n",
       "    }\n",
       "\n",
       "    .dataframe thead th {\n",
       "        text-align: right;\n",
       "    }\n",
       "</style>\n",
       "<table border=\"1\" class=\"dataframe\">\n",
       "  <thead>\n",
       "    <tr style=\"text-align: right;\">\n",
       "      <th></th>\n",
       "      <th>title</th>\n",
       "      <th>show_year</th>\n",
       "      <th>tmdb_title</th>\n",
       "      <th>tmdb_original_title</th>\n",
       "      <th>tmdb_release_date</th>\n",
       "      <th>tmdb_genre_ids</th>\n",
       "      <th>tmdb_overview</th>\n",
       "      <th>tmdb_original_language</th>\n",
       "      <th>tmdb_popularity</th>\n",
       "      <th>tmdb_vote_count</th>\n",
       "      <th>...</th>\n",
       "      <th>tmdb_id</th>\n",
       "      <th>tmdb_runtime</th>\n",
       "      <th>imdb_id</th>\n",
       "      <th>tmdb_budget</th>\n",
       "      <th>tmdb_production_companies</th>\n",
       "      <th>tmdb_revenue</th>\n",
       "      <th>tmdb_tagline</th>\n",
       "      <th>tmdb_cast</th>\n",
       "      <th>tmdb_crew</th>\n",
       "      <th>tmdb_keywords</th>\n",
       "    </tr>\n",
       "  </thead>\n",
       "  <tbody>\n",
       "    <tr>\n",
       "      <th>0</th>\n",
       "      <td>vaiana</td>\n",
       "      <td>2017</td>\n",
       "      <td>Gone Fishing</td>\n",
       "      <td>Gone Fishing</td>\n",
       "      <td>2017-02-21</td>\n",
       "      <td>[16, 35, 10402]</td>\n",
       "      <td>Gone Fishing is an animated short featuring th...</td>\n",
       "      <td>en</td>\n",
       "      <td>2.052</td>\n",
       "      <td>22.0</td>\n",
       "      <td>...</td>\n",
       "      <td>444341.0</td>\n",
       "      <td>3.0</td>\n",
       "      <td>tt6467284</td>\n",
       "      <td>0.0</td>\n",
       "      <td>[{'id': 6125, 'logo_path': '/tVPmo07IHhBs4Huil...</td>\n",
       "      <td>0.0</td>\n",
       "      <td></td>\n",
       "      <td>[{'cast_id': 2, 'character': 'Moana (voice)', ...</td>\n",
       "      <td>[{'credit_id': '58b65dcbc3a3680f410045ef', 'de...</td>\n",
       "      <td>{'keywords': []}</td>\n",
       "    </tr>\n",
       "    <tr>\n",
       "      <th>1</th>\n",
       "      <td>mamma mia here we go again</td>\n",
       "      <td>2018</td>\n",
       "      <td>Mamma Mia! Here We Go Again</td>\n",
       "      <td>Mamma Mia! Here We Go Again</td>\n",
       "      <td>2018-07-09</td>\n",
       "      <td>[35, 10749]</td>\n",
       "      <td>Five years after meeting her three fathers, So...</td>\n",
       "      <td>en</td>\n",
       "      <td>15.387</td>\n",
       "      <td>2167.0</td>\n",
       "      <td>...</td>\n",
       "      <td>458423.0</td>\n",
       "      <td>113.0</td>\n",
       "      <td>tt6911608</td>\n",
       "      <td>75000000.0</td>\n",
       "      <td>[{'id': 923, 'logo_path': '/5UQsZrfbfG2dYJbx8D...</td>\n",
       "      <td>395044706.0</td>\n",
       "      <td></td>\n",
       "      <td>[{'cast_id': 2, 'character': 'Sophie Sheridan'...</td>\n",
       "      <td>[{'credit_id': '5bdc90b60e0a26283e002980', 'de...</td>\n",
       "      <td>{'keywords': [{'id': 1200, 'name': 'greece'}, ...</td>\n",
       "    </tr>\n",
       "    <tr>\n",
       "      <th>2</th>\n",
       "      <td>frost 2</td>\n",
       "      <td>2019</td>\n",
       "      <td>Before the Frost</td>\n",
       "      <td>Før frosten</td>\n",
       "      <td>2019-01-10</td>\n",
       "      <td>[18]</td>\n",
       "      <td>The film takes place somewhere in the Danish c...</td>\n",
       "      <td>da</td>\n",
       "      <td>2.055</td>\n",
       "      <td>7.0</td>\n",
       "      <td>...</td>\n",
       "      <td>498162.0</td>\n",
       "      <td>104.0</td>\n",
       "      <td>tt7523180</td>\n",
       "      <td>0.0</td>\n",
       "      <td>[{'id': 235, 'logo_path': '/obOynoztBEhDNfHsDX...</td>\n",
       "      <td>0.0</td>\n",
       "      <td></td>\n",
       "      <td>[{'cast_id': 0, 'character': 'Jens', 'credit_i...</td>\n",
       "      <td>[{'credit_id': '5a59dd860e0a267fd100853d', 'de...</td>\n",
       "      <td>{'keywords': []}</td>\n",
       "    </tr>\n",
       "    <tr>\n",
       "      <th>3</th>\n",
       "      <td>mamma mia here we go again</td>\n",
       "      <td>2018</td>\n",
       "      <td>Mamma Mia! Here We Go Again</td>\n",
       "      <td>Mamma Mia! Here We Go Again</td>\n",
       "      <td>2018-07-09</td>\n",
       "      <td>[35, 10749]</td>\n",
       "      <td>Five years after meeting her three fathers, So...</td>\n",
       "      <td>en</td>\n",
       "      <td>15.387</td>\n",
       "      <td>2167.0</td>\n",
       "      <td>...</td>\n",
       "      <td>458423.0</td>\n",
       "      <td>113.0</td>\n",
       "      <td>tt6911608</td>\n",
       "      <td>75000000.0</td>\n",
       "      <td>[{'id': 923, 'logo_path': '/5UQsZrfbfG2dYJbx8D...</td>\n",
       "      <td>395044706.0</td>\n",
       "      <td></td>\n",
       "      <td>[{'cast_id': 2, 'character': 'Sophie Sheridan'...</td>\n",
       "      <td>[{'credit_id': '5bdc90b60e0a26283e002980', 'de...</td>\n",
       "      <td>{'keywords': [{'id': 1200, 'name': 'greece'}, ...</td>\n",
       "    </tr>\n",
       "    <tr>\n",
       "      <th>4</th>\n",
       "      <td>frost 2</td>\n",
       "      <td>2019</td>\n",
       "      <td>Before the Frost</td>\n",
       "      <td>Før frosten</td>\n",
       "      <td>2019-01-10</td>\n",
       "      <td>[18]</td>\n",
       "      <td>The film takes place somewhere in the Danish c...</td>\n",
       "      <td>da</td>\n",
       "      <td>2.055</td>\n",
       "      <td>7.0</td>\n",
       "      <td>...</td>\n",
       "      <td>498162.0</td>\n",
       "      <td>104.0</td>\n",
       "      <td>tt7523180</td>\n",
       "      <td>0.0</td>\n",
       "      <td>[{'id': 235, 'logo_path': '/obOynoztBEhDNfHsDX...</td>\n",
       "      <td>0.0</td>\n",
       "      <td></td>\n",
       "      <td>[{'cast_id': 0, 'character': 'Jens', 'credit_i...</td>\n",
       "      <td>[{'credit_id': '5a59dd860e0a267fd100853d', 'de...</td>\n",
       "      <td>{'keywords': []}</td>\n",
       "    </tr>\n",
       "  </tbody>\n",
       "</table>\n",
       "<p>5 rows × 21 columns</p>\n",
       "</div>"
      ],
      "text/plain": [
       "                        title show_year                   tmdb_title  \\\n",
       "0                      vaiana      2017                 Gone Fishing   \n",
       "1  mamma mia here we go again      2018  Mamma Mia! Here We Go Again   \n",
       "2                     frost 2      2019             Before the Frost   \n",
       "3  mamma mia here we go again      2018  Mamma Mia! Here We Go Again   \n",
       "4                     frost 2      2019             Before the Frost   \n",
       "\n",
       "           tmdb_original_title tmdb_release_date   tmdb_genre_ids  \\\n",
       "0                 Gone Fishing        2017-02-21  [16, 35, 10402]   \n",
       "1  Mamma Mia! Here We Go Again        2018-07-09      [35, 10749]   \n",
       "2                  Før frosten        2019-01-10             [18]   \n",
       "3  Mamma Mia! Here We Go Again        2018-07-09      [35, 10749]   \n",
       "4                  Før frosten        2019-01-10             [18]   \n",
       "\n",
       "                                       tmdb_overview tmdb_original_language  \\\n",
       "0  Gone Fishing is an animated short featuring th...                     en   \n",
       "1  Five years after meeting her three fathers, So...                     en   \n",
       "2  The film takes place somewhere in the Danish c...                     da   \n",
       "3  Five years after meeting her three fathers, So...                     en   \n",
       "4  The film takes place somewhere in the Danish c...                     da   \n",
       "\n",
       "   tmdb_popularity  tmdb_vote_count  ...   tmdb_id  tmdb_runtime    imdb_id  \\\n",
       "0            2.052             22.0  ...  444341.0           3.0  tt6467284   \n",
       "1           15.387           2167.0  ...  458423.0         113.0  tt6911608   \n",
       "2            2.055              7.0  ...  498162.0         104.0  tt7523180   \n",
       "3           15.387           2167.0  ...  458423.0         113.0  tt6911608   \n",
       "4            2.055              7.0  ...  498162.0         104.0  tt7523180   \n",
       "\n",
       "  tmdb_budget                          tmdb_production_companies tmdb_revenue  \\\n",
       "0         0.0  [{'id': 6125, 'logo_path': '/tVPmo07IHhBs4Huil...          0.0   \n",
       "1  75000000.0  [{'id': 923, 'logo_path': '/5UQsZrfbfG2dYJbx8D...  395044706.0   \n",
       "2         0.0  [{'id': 235, 'logo_path': '/obOynoztBEhDNfHsDX...          0.0   \n",
       "3  75000000.0  [{'id': 923, 'logo_path': '/5UQsZrfbfG2dYJbx8D...  395044706.0   \n",
       "4         0.0  [{'id': 235, 'logo_path': '/obOynoztBEhDNfHsDX...          0.0   \n",
       "\n",
       "   tmdb_tagline                                          tmdb_cast  \\\n",
       "0                [{'cast_id': 2, 'character': 'Moana (voice)', ...   \n",
       "1                [{'cast_id': 2, 'character': 'Sophie Sheridan'...   \n",
       "2                [{'cast_id': 0, 'character': 'Jens', 'credit_i...   \n",
       "3                [{'cast_id': 2, 'character': 'Sophie Sheridan'...   \n",
       "4                [{'cast_id': 0, 'character': 'Jens', 'credit_i...   \n",
       "\n",
       "                                           tmdb_crew  \\\n",
       "0  [{'credit_id': '58b65dcbc3a3680f410045ef', 'de...   \n",
       "1  [{'credit_id': '5bdc90b60e0a26283e002980', 'de...   \n",
       "2  [{'credit_id': '5a59dd860e0a267fd100853d', 'de...   \n",
       "3  [{'credit_id': '5bdc90b60e0a26283e002980', 'de...   \n",
       "4  [{'credit_id': '5a59dd860e0a267fd100853d', 'de...   \n",
       "\n",
       "                                       tmdb_keywords  \n",
       "0                                   {'keywords': []}  \n",
       "1  {'keywords': [{'id': 1200, 'name': 'greece'}, ...  \n",
       "2                                   {'keywords': []}  \n",
       "3  {'keywords': [{'id': 1200, 'name': 'greece'}, ...  \n",
       "4                                   {'keywords': []}  \n",
       "\n",
       "[5 rows x 21 columns]"
      ]
     },
     "execution_count": 17,
     "metadata": {},
     "output_type": "execute_result"
    }
   ],
   "source": [
    "append = pd.DataFrame(append)\n",
    "append.head()"
   ]
  },
  {
   "cell_type": "code",
   "execution_count": 18,
   "metadata": {},
   "outputs": [
    {
     "data": {
      "text/plain": [
       "['../data/append.joblib']"
      ]
     },
     "execution_count": 18,
     "metadata": {},
     "output_type": "execute_result"
    }
   ],
   "source": [
    "dump(append, data+'append.joblib')"
   ]
  },
  {
   "cell_type": "code",
   "execution_count": null,
   "metadata": {},
   "outputs": [],
   "source": [
    "append = load(data+'append.joblib')"
   ]
  },
  {
   "cell_type": "code",
   "execution_count": 21,
   "metadata": {},
   "outputs": [
    {
     "name": "stdout",
     "output_type": "stream",
     "text": [
      "Wall time: 105 ms\n"
     ]
    }
   ],
   "source": [
    "%%time\n",
    "showings.reset_index(inplace=True)\n",
    "showings['tmdb_title'] = append.tmdb_title\n",
    "showings['tmdb_genre_ids'] = append.tmdb_genre_ids\n",
    "showings['tmdb_original_language'] = append.tmdb_original_language\n",
    "showings['tmdb_original_title'] = append.tmdb_original_title\n",
    "showings['tmdb_overview'] = append.tmdb_overview\n",
    "showings['tmdb_popularity'] = append.tmdb_popularity\n",
    "showings['tmdb_release_date'] = append.tmdb_release_date\n",
    "showings['tmdb_vote_average'] = append.tmdb_vote_average\n",
    "showings['tmdb_vote_count'] = append.tmdb_vote_count\n",
    "showings['tmdb_id'] = append.tmdb_id\n",
    "showings['tmdb_runtime'] = append.tmdb_runtime\n",
    "showings['tmdb_budget'] = append.tmdb_budget\n",
    "showings['tmdb_production_companies'] = append.tmdb_production_companies\n",
    "showings['tmdb_revenue'] = append.tmdb_revenue\n",
    "showings['tmdb_tagline'] = append.tmdb_tagline\n",
    "showings['tmdb_cast'] = append.tmdb_cast\n",
    "showings['tmdb_crew'] = append.tmdb_crew\n",
    "showings['tmdb_keywords'] = append.tmdb_keywords\n",
    "showings['imdb_id'] = append.imdb_id"
   ]
  },
  {
   "cell_type": "code",
   "execution_count": 22,
   "metadata": {},
   "outputs": [
    {
     "data": {
      "text/plain": [
       "['../data/showings.joblib']"
      ]
     },
     "execution_count": 22,
     "metadata": {},
     "output_type": "execute_result"
    }
   ],
   "source": [
    "dump(showings, data+'showings.joblib')"
   ]
  },
  {
   "cell_type": "code",
   "execution_count": 37,
   "metadata": {},
   "outputs": [],
   "source": [
    "showings = load(data+'showings.joblib')"
   ]
  },
  {
   "cell_type": "code",
   "execution_count": 23,
   "metadata": {},
   "outputs": [
    {
     "data": {
      "text/plain": [
       "arr_nr                           0\n",
       "std_movienr                      0\n",
       "full_title                       0\n",
       "showtime                         0\n",
       "sold                             0\n",
       "room                             0\n",
       "seats                            0\n",
       "seats_b                          0\n",
       "coverage                         0\n",
       "location                         0\n",
       "stripped_title                   0\n",
       "tmdb_title                   82764\n",
       "tmdb_genre_ids               82764\n",
       "tmdb_original_language       82764\n",
       "tmdb_original_title          82764\n",
       "tmdb_overview                82764\n",
       "tmdb_popularity              82764\n",
       "tmdb_release_date            82764\n",
       "tmdb_vote_average            82764\n",
       "tmdb_vote_count              82764\n",
       "tmdb_id                      82764\n",
       "tmdb_runtime                 87496\n",
       "tmdb_budget                  82764\n",
       "tmdb_production_companies    82764\n",
       "tmdb_revenue                 82764\n",
       "tmdb_tagline                 82764\n",
       "tmdb_cast                    82764\n",
       "tmdb_crew                    82764\n",
       "tmdb_keywords                82764\n",
       "imdb_id                      96617\n",
       "dtype: int64"
      ]
     },
     "execution_count": 23,
     "metadata": {},
     "output_type": "execute_result"
    }
   ],
   "source": [
    "showings.isna().sum()"
   ]
  },
  {
   "cell_type": "code",
   "execution_count": 25,
   "metadata": {},
   "outputs": [],
   "source": [
    "showings.dropna(subset=['tmdb_title'], inplace=True)"
   ]
  },
  {
   "cell_type": "code",
   "execution_count": 27,
   "metadata": {},
   "outputs": [
    {
     "data": {
      "text/plain": [
       "arr_nr                           0\n",
       "std_movienr                      0\n",
       "full_title                       0\n",
       "showtime                         0\n",
       "sold                             0\n",
       "room                             0\n",
       "seats                            0\n",
       "seats_b                          0\n",
       "coverage                         0\n",
       "location                         0\n",
       "stripped_title                   0\n",
       "tmdb_title                       0\n",
       "tmdb_genre_ids                   0\n",
       "tmdb_original_language           0\n",
       "tmdb_original_title              0\n",
       "tmdb_overview                    0\n",
       "tmdb_popularity                  0\n",
       "tmdb_release_date                0\n",
       "tmdb_vote_average                0\n",
       "tmdb_vote_count                  0\n",
       "tmdb_id                          0\n",
       "tmdb_runtime                  4732\n",
       "tmdb_budget                      0\n",
       "tmdb_production_companies        0\n",
       "tmdb_revenue                     0\n",
       "tmdb_tagline                     0\n",
       "tmdb_cast                        0\n",
       "tmdb_crew                        0\n",
       "tmdb_keywords                    0\n",
       "imdb_id                      13853\n",
       "dtype: int64"
      ]
     },
     "execution_count": 27,
     "metadata": {},
     "output_type": "execute_result"
    }
   ],
   "source": [
    "showings.isna().sum()"
   ]
  },
  {
   "cell_type": "code",
   "execution_count": 28,
   "metadata": {},
   "outputs": [
    {
     "data": {
      "text/plain": [
       "['../data/showings_dropped_NaN.joblib']"
      ]
     },
     "execution_count": 28,
     "metadata": {},
     "output_type": "execute_result"
    }
   ],
   "source": [
    "dump(showings, data+'showings_dropped_NaN.joblib')"
   ]
  }
 ],
 "metadata": {
  "kernelspec": {
   "display_name": "Python 3",
   "language": "python",
   "name": "python3"
  },
  "language_info": {
   "codemirror_mode": {
    "name": "ipython",
    "version": 3
   },
   "file_extension": ".py",
   "mimetype": "text/x-python",
   "name": "python",
   "nbconvert_exporter": "python",
   "pygments_lexer": "ipython3",
   "version": "3.7.2"
  }
 },
 "nbformat": 4,
 "nbformat_minor": 4
}
