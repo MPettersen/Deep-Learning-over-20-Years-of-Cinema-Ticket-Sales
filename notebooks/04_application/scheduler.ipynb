{
 "cells": [
  {
   "cell_type": "markdown",
   "metadata": {},
   "source": [
    "# Cinema weekly schedular"
   ]
  },
  {
   "cell_type": "code",
   "execution_count": 1,
   "metadata": {},
   "outputs": [],
   "source": [
    "%reload_ext autoreload\n",
    "%autoreload 2\n",
    "%matplotlib inline"
   ]
  },
  {
   "cell_type": "code",
   "execution_count": 2,
   "metadata": {},
   "outputs": [],
   "source": [
    "from __future__ import absolute_import, division, print_function, unicode_literals\n",
    "\n",
    "import holidays\n",
    "import pandas as pd\n",
    "import datetime as dt\n",
    "import matplotlib.pyplot as plt\n",
    "from tmdbv3api import TMDb, Movie\n",
    "\n",
    "from fastai.tabular import transform\n",
    "from fastai.tabular import *\n",
    "from joblib import load, dump\n",
    "from torch import nn, optim"
   ]
  },
  {
   "cell_type": "code",
   "execution_count": 3,
   "metadata": {},
   "outputs": [],
   "source": [
    "defaults.device = torch.device('cpu')"
   ]
  },
  {
   "cell_type": "code",
   "execution_count": 4,
   "metadata": {},
   "outputs": [],
   "source": [
    "genres = load('../data/genres.joblib')"
   ]
  },
  {
   "cell_type": "code",
   "execution_count": 5,
   "metadata": {},
   "outputs": [],
   "source": [
    "data = '../data/'\n",
    "showings = load(data+'showings_extra_feature.joblib')\n",
    "showings.replace(np.inf, 0, inplace=True)\n",
    "showings.sort_values(by='showtime', inplace=True)\n",
    "showings.reset_index(drop=True, inplace=True)\n",
    "\n",
    "train_valid = showings.loc[(showings.year > 1999) & (showings.year < 2019)]\n",
    "train_valid.reset_index(drop=True, inplace=True)\n",
    "split = list(train_valid.loc[train_valid.year > 2016].index)"
   ]
  },
  {
   "cell_type": "code",
   "execution_count": 6,
   "metadata": {},
   "outputs": [],
   "source": [
    "dep_var = 'coverage'\n",
    "cat_names = ['room',\n",
    "             'tmdb_original_language',\n",
    "             'year',\n",
    "             'month',\n",
    "             'week',\n",
    "             'day',\n",
    "             'hour',\n",
    "             'minute',\n",
    "             'dayofweek',\n",
    "             'dayofyear',\n",
    "             'is_month_end',\n",
    "             'is_month_start',\n",
    "             'is_quarter_end',\n",
    "             'is_quarter_start',\n",
    "             'is_year_end',\n",
    "             'is_year_start',\n",
    "             'is_holiday',\n",
    "             'days_since_release',\n",
    "             'Action',\n",
    "             'Adventure',\n",
    "             'Animation',\n",
    "             'Comedy',\n",
    "             'Crime',\n",
    "             'Documentary',\n",
    "             'Drama',\n",
    "             'Family',\n",
    "             'Fantasy',\n",
    "             'History',\n",
    "             'Horror',\n",
    "             'Music',\n",
    "             'Mystery',\n",
    "             'Romance',\n",
    "             'Science Fiction',\n",
    "             'TV Movie',\n",
    "             'Thriller',\n",
    "             'War',\n",
    "             'Western']\n",
    "cont_names = ['seats',\n",
    "              'tmdb_popularity',\n",
    "              'tmdb_vote_average',\n",
    "              'tmdb_vote_count',\n",
    "              'tmdb_runtime',\n",
    "              'tmdb_budget',\n",
    "              'weekday_cos',\n",
    "              'weekday_sin',\n",
    "              'day_month_cos',\n",
    "              'day_month_sin',\n",
    "              'month_year_cos',\n",
    "              'month_year_sin',\n",
    "              'day_year_cos',\n",
    "              'day_year_sin',\n",
    "              'hour_cos',\n",
    "              'hour_sin',\n",
    "              'clock_cos',\n",
    "              'clock_sin',\n",
    "              'min_cos',\n",
    "              'min_sin']\n",
    "procs = [FillMissing, Categorify, Normalize]"
   ]
  },
  {
   "cell_type": "code",
   "execution_count": 7,
   "metadata": {},
   "outputs": [
    {
     "name": "stderr",
     "output_type": "stream",
     "text": [
      "INFO:numexpr.utils:NumExpr defaulting to 8 threads.\n"
     ]
    }
   ],
   "source": [
    "data = (TabularList.from_df(train_valid, cat_names=cat_names, cont_names=cont_names, procs=procs)\n",
    "                   .split_by_idx(split)\n",
    "                   .label_from_df(cols=dep_var)\n",
    "                   .databunch())"
   ]
  },
  {
   "cell_type": "code",
   "execution_count": 10,
   "metadata": {},
   "outputs": [
    {
     "data": {
      "text/plain": [
       "1"
      ]
     },
     "execution_count": 10,
     "metadata": {},
     "output_type": "execute_result"
    }
   ],
   "source": [
    "learn = tabular_learner(\n",
    "                        data, layers=[1000, 500, 250, 125], emb_szs={'room': 333},\n",
    "                        metrics=mae, y_range=[-.01,1.01],\n",
    "                        emb_drop=0.15,\n",
    "                        ps=(0.00, 0.20, 0.15, 0.95)\n",
    "                       )\n",
    "\n",
    "learn.opt_func = partial(\n",
    "    optim.Adam,\n",
    "    betas   = (0.99, 0.99), # default: (0.9, 0.99)\n",
    "    eps     = 1e-3,         # default: 1e-8\n",
    "    amsgrad = False         # default: False\n",
    ")\n",
    "\n",
    "learn.load('final_model')\n",
    "\n",
    "1 # Just to avoid having to see the output of the above statement which shows all the information the object contains"
   ]
  },
  {
   "cell_type": "markdown",
   "metadata": {},
   "source": [
    "# New start"
   ]
  },
  {
   "cell_type": "code",
   "execution_count": 11,
   "metadata": {},
   "outputs": [],
   "source": [
    "location = showings.loc[(showings.year == 2019) & (showings.location == 260) & (showings.month == 9) & (showings.day >= 16) & (showings.day <= 22)]"
   ]
  },
  {
   "cell_type": "code",
   "execution_count": 12,
   "metadata": {},
   "outputs": [],
   "source": [
    "movies  = location.std_movienr.unique().tolist()\n",
    "rooms   = location.room.unique().tolist()\n",
    "week    = location.day.unique().tolist()\n",
    "hours   = range(14, 23)\n",
    "minutes = range(0, 60, 10)"
   ]
  },
  {
   "cell_type": "code",
   "execution_count": 13,
   "metadata": {},
   "outputs": [],
   "source": [
    "# These numbers are specific to this very test and corresponds to when we have\n",
    "# different version of the same movie in this case 2D and 3D of Toy Story 4\n",
    "# In addition we also removed a mismatched movie that had a runtime of 0 minutes\n",
    "duplicates = [\n",
    "    'BVI20180368',\n",
    "    'BVI20190413',\n",
    "    'EUR20120343',\n",
    "    'NOR20180530',\n",
    "    'FOX20190401'\n",
    "]\n",
    "for i in duplicates:\n",
    "    movies.remove(i)"
   ]
  },
  {
   "cell_type": "code",
   "execution_count": 14,
   "metadata": {},
   "outputs": [],
   "source": [
    "dets = dict()\n",
    "for movie in movies:\n",
    "    dets[movie] = location.loc[location.std_movienr == movie].iloc[0]"
   ]
  },
  {
   "cell_type": "code",
   "execution_count": 15,
   "metadata": {},
   "outputs": [
    {
     "name": "stdout",
     "output_type": "stream",
     "text": [
      "Wall time: 2.96 s\n"
     ]
    }
   ],
   "source": [
    "%%time\n",
    "schedule = list()\n",
    "for movie in movies:\n",
    "    det = dets[movie]\n",
    "    for day in week:\n",
    "        det['day'] = day\n",
    "        for room in rooms:\n",
    "            det['room'] = room\n",
    "            for hour in hours:\n",
    "                det['hour'] = hour\n",
    "                for minute in minutes:\n",
    "                    det['minute']   = minute\n",
    "                    det['showtime'] = dt.datetime.strptime('2020-01-'+str(day)+' '+str(hour)+':'+str(minute), '%Y-%m-%d %H:%M')\n",
    "                    schedule.append(deepcopy(det))"
   ]
  },
  {
   "cell_type": "code",
   "execution_count": 16,
   "metadata": {},
   "outputs": [],
   "source": [
    "schedule = pd.DataFrame(schedule)\n",
    "schedule.reset_index(drop=True, inplace=True)"
   ]
  },
  {
   "cell_type": "code",
   "execution_count": 17,
   "metadata": {},
   "outputs": [
    {
     "name": "stdout",
     "output_type": "stream",
     "text": [
      "Number of movies: 19\n",
      "Number of days: 7\n",
      "Number of rooms: 6\n",
      "Number of combinations: 43092\n"
     ]
    }
   ],
   "source": [
    "print('Number of movies:', len(movies))\n",
    "print('Number of days:', len(week))\n",
    "print('Number of rooms:', len(rooms))\n",
    "print('Number of combinations:', schedule.shape[0])"
   ]
  },
  {
   "cell_type": "markdown",
   "metadata": {},
   "source": [
    "### Extracting datetime related information"
   ]
  },
  {
   "cell_type": "code",
   "execution_count": 18,
   "metadata": {},
   "outputs": [],
   "source": [
    "transform.add_datepart(schedule, 'showtime', drop=False, time=True)\n",
    "transform.add_cyclic_datepart(schedule, 'showtime', drop=False, time=True)\n",
    "showtimes = schedule.showtime.tolist()\n",
    "norway_holidays = holidays.Norway(include_sundays=False)\n",
    "showings_holidays = [t in norway_holidays for t in showtimes]\n",
    "schedule['is_holiday'] = showings_holidays\n",
    "\n",
    "times   = schedule.showtime.tolist()\n",
    "release = schedule.tmdb_release_date.tolist()\n",
    "since_release = list()\n",
    "for t, r in zip(times, release):\n",
    "    if r != '':\n",
    "        days_since_release = (t - dt.datetime.strptime(r, '%Y-%m-%d')).days\n",
    "    else:\n",
    "        days_since_release = 100\n",
    "    if days_since_release < 0: days_since_release = -1\n",
    "    if days_since_release > 150: days_since_release = 150\n",
    "    since_release.append(days_since_release)\n",
    "schedule['days_since_release'] = since_release"
   ]
  },
  {
   "cell_type": "code",
   "execution_count": 19,
   "metadata": {},
   "outputs": [],
   "source": [
    "# Since the data the model has been trained on contained missing values in the\n",
    "# runtime feature we need to have one nan value present due to the limitations \n",
    "# of the library used to make the initial model\n",
    "schedule.loc[0, 'tmdb_runtime'] = np.nan"
   ]
  },
  {
   "cell_type": "code",
   "execution_count": 20,
   "metadata": {},
   "outputs": [
    {
     "data": {
      "text/html": [],
      "text/plain": [
       "<IPython.core.display.HTML object>"
      ]
     },
     "metadata": {},
     "output_type": "display_data"
    }
   ],
   "source": [
    "schedule.reset_index(drop=True, inplace=True)\n",
    "test = (TabularList.from_df(schedule,\n",
    "                            cat_names=cat_names, cont_names=cont_names, procs=procs)\n",
    "                   .split_none()\n",
    "                   .label_from_df(cols=dep_var))\n",
    "test.valid = test.train\n",
    "test = test.databunch()\n",
    "\n",
    "learn.data.valid_dl = test.valid_dl\n",
    "preds_test = learn.get_preds(ds_type=DatasetType.Valid)\n",
    "\n",
    "schedule['preds'] = preds_test[0].T[0].tolist()"
   ]
  },
  {
   "cell_type": "code",
   "execution_count": 35,
   "metadata": {},
   "outputs": [],
   "source": [
    "def append_to_list(l:list, title:str, showtime:dt.datetime.timestamp, runtime:int, pred:float, screening:pd.Series, extra=20):\n",
    "    \"\"\"Function for adding information to a list in an ordered manner.\"\"\"\n",
    "    l.append(\n",
    "        {'title':         title,\n",
    "         'runtime':       runtime,\n",
    "         'pred_coverage': pred,\n",
    "         'start':         showtime,\n",
    "         'end':           showtime + dt.timedelta(minutes=runtime+extra),\n",
    "         'screening':     screening\n",
    "        }\n",
    "    )"
   ]
  },
  {
   "cell_type": "code",
   "execution_count": 36,
   "metadata": {},
   "outputs": [],
   "source": [
    "def create_suggestion(screenings:pd.DataFrame, week:list, rooms:list, extra:int=20):\n",
    "    \"\"\"\n",
    "    This function generates a schedule based on the predictions made.\n",
    "    \"\"\"\n",
    "    screenings.sort_values(by='preds', inplace=True)\n",
    "    schedule = dict()\n",
    "    all_screenings = list()\n",
    "    for day in week:\n",
    "        schedule[day] = dict()\n",
    "        for room in rooms:\n",
    "            schedule[day][room] = list()\n",
    "            temp = screenings.loc[(screenings.day == day) & (screenings.room == room)]\n",
    "            for i, title, showtime, runtime, coverage in zip(temp.index, temp.tmdb_title, temp.showtime, temp.tmdb_runtime, temp.preds):\n",
    "                if len(schedule[day][room]) == 0:\n",
    "                    screening = screenings.loc[i]\n",
    "                    append_to_list(schedule[day][room], title, showtime, runtime, coverage, screening)\n",
    "                    all_screenings.append(screening)\n",
    "                    continue\n",
    "                try:\n",
    "                    start, end = showtime, showtime+dt.timedelta(minutes=runtime+extra)\n",
    "                    for j in schedule[day][room]:\n",
    "                        if not (\n",
    "                            start < j['start'] > end\n",
    "                            or\n",
    "                            start > j['end'] < end\n",
    "                        ): raise Exception()\n",
    "                    screening = screenings.loc[i]\n",
    "                    append_to_list(schedule[day][room], title, showtime, runtime, coverage, screening)\n",
    "                    all_screenings.append(screening)\n",
    "                except:\n",
    "                    continue\n",
    "            schedule[day][room] = pd.DataFrame(schedule[day][room]).sort_values(by='start')\n",
    "    all_screenings = pd.DataFrame(all_screenings)\n",
    "    \n",
    "    return all_screenings"
   ]
  },
  {
   "cell_type": "code",
   "execution_count": 40,
   "metadata": {},
   "outputs": [
    {
     "name": "stdout",
     "output_type": "stream",
     "text": [
      "Wall time: 471 ms\n"
     ]
    }
   ],
   "source": [
    "%time screenings = create_suggestion(schedule, week, rooms)"
   ]
  },
  {
   "cell_type": "code",
   "execution_count": 24,
   "metadata": {},
   "outputs": [
    {
     "data": {
      "text/plain": [
       "[16, 17, 18, 19, 20, 21, 22]"
      ]
     },
     "execution_count": 24,
     "metadata": {},
     "output_type": "execute_result"
    }
   ],
   "source": [
    "week"
   ]
  },
  {
   "cell_type": "code",
   "execution_count": 25,
   "metadata": {},
   "outputs": [
    {
     "data": {
      "text/plain": [
       "[26003, 26001, 26002, 26006, 26005, 26004]"
      ]
     },
     "execution_count": 25,
     "metadata": {},
     "output_type": "execute_result"
    }
   ],
   "source": [
    "rooms"
   ]
  },
  {
   "cell_type": "code",
   "execution_count": 26,
   "metadata": {},
   "outputs": [
    {
     "data": {
      "text/html": [
       "<div>\n",
       "<style scoped>\n",
       "    .dataframe tbody tr th:only-of-type {\n",
       "        vertical-align: middle;\n",
       "    }\n",
       "\n",
       "    .dataframe tbody tr th {\n",
       "        vertical-align: top;\n",
       "    }\n",
       "\n",
       "    .dataframe thead th {\n",
       "        text-align: right;\n",
       "    }\n",
       "</style>\n",
       "<table border=\"1\" class=\"dataframe\">\n",
       "  <thead>\n",
       "    <tr style=\"text-align: right;\">\n",
       "      <th></th>\n",
       "      <th>showtime</th>\n",
       "      <th>tmdb_original_title</th>\n",
       "      <th>tmdb_title</th>\n",
       "      <th>tmdb_runtime</th>\n",
       "      <th>preds</th>\n",
       "    </tr>\n",
       "  </thead>\n",
       "  <tbody>\n",
       "    <tr>\n",
       "      <th>10698</th>\n",
       "      <td>2020-01-21 15:00:00</td>\n",
       "      <td>Askeladden - I Soria Moria slott</td>\n",
       "      <td>The Ash Lad: In Search of the Golden Castle</td>\n",
       "      <td>99.0</td>\n",
       "      <td>0.016382</td>\n",
       "    </tr>\n",
       "    <tr>\n",
       "      <th>10710</th>\n",
       "      <td>2020-01-21 17:00:00</td>\n",
       "      <td>Askeladden - I Soria Moria slott</td>\n",
       "      <td>The Ash Lad: In Search of the Golden Castle</td>\n",
       "      <td>99.0</td>\n",
       "      <td>0.012430</td>\n",
       "    </tr>\n",
       "    <tr>\n",
       "      <th>10722</th>\n",
       "      <td>2020-01-21 19:00:00</td>\n",
       "      <td>Askeladden - I Soria Moria slott</td>\n",
       "      <td>The Ash Lad: In Search of the Golden Castle</td>\n",
       "      <td>99.0</td>\n",
       "      <td>0.014645</td>\n",
       "    </tr>\n",
       "    <tr>\n",
       "      <th>10739</th>\n",
       "      <td>2020-01-21 21:50:00</td>\n",
       "      <td>Askeladden - I Soria Moria slott</td>\n",
       "      <td>The Ash Lad: In Search of the Golden Castle</td>\n",
       "      <td>99.0</td>\n",
       "      <td>0.020347</td>\n",
       "    </tr>\n",
       "  </tbody>\n",
       "</table>\n",
       "</div>"
      ],
      "text/plain": [
       "                 showtime               tmdb_original_title  \\\n",
       "10698 2020-01-21 15:00:00  Askeladden - I Soria Moria slott   \n",
       "10710 2020-01-21 17:00:00  Askeladden - I Soria Moria slott   \n",
       "10722 2020-01-21 19:00:00  Askeladden - I Soria Moria slott   \n",
       "10739 2020-01-21 21:50:00  Askeladden - I Soria Moria slott   \n",
       "\n",
       "                                        tmdb_title  tmdb_runtime     preds  \n",
       "10698  The Ash Lad: In Search of the Golden Castle          99.0  0.016382  \n",
       "10710  The Ash Lad: In Search of the Golden Castle          99.0  0.012430  \n",
       "10722  The Ash Lad: In Search of the Golden Castle          99.0  0.014645  \n",
       "10739  The Ash Lad: In Search of the Golden Castle          99.0  0.020347  "
      ]
     },
     "execution_count": 26,
     "metadata": {},
     "output_type": "execute_result"
    }
   ],
   "source": [
    "screenings.loc[(screenings.day == 21) & (screenings.room == 26003), ('showtime', 'tmdb_original_title', 'tmdb_title', 'tmdb_runtime', 'preds')].sort_values(by='showtime')"
   ]
  },
  {
   "cell_type": "code",
   "execution_count": 27,
   "metadata": {},
   "outputs": [
    {
     "data": {
      "text/html": [
       "<div>\n",
       "<style scoped>\n",
       "    .dataframe tbody tr th:only-of-type {\n",
       "        vertical-align: middle;\n",
       "    }\n",
       "\n",
       "    .dataframe tbody tr th {\n",
       "        vertical-align: top;\n",
       "    }\n",
       "\n",
       "    .dataframe thead th {\n",
       "        text-align: right;\n",
       "    }\n",
       "</style>\n",
       "<table border=\"1\" class=\"dataframe\">\n",
       "  <thead>\n",
       "    <tr style=\"text-align: right;\">\n",
       "      <th></th>\n",
       "      <th>showtime</th>\n",
       "      <th>tmdb_original_title</th>\n",
       "      <th>tmdb_title</th>\n",
       "      <th>tmdb_runtime</th>\n",
       "      <th>coverage</th>\n",
       "    </tr>\n",
       "  </thead>\n",
       "  <tbody>\n",
       "    <tr>\n",
       "      <th>1085583</th>\n",
       "      <td>2019-09-21 13:00:00</td>\n",
       "      <td>Askeladden - I Soria Moria slott</td>\n",
       "      <td>The Ash Lad: In Search of the Golden Castle</td>\n",
       "      <td>99.0</td>\n",
       "      <td>0.042254</td>\n",
       "    </tr>\n",
       "    <tr>\n",
       "      <th>1085637</th>\n",
       "      <td>2019-09-21 15:00:00</td>\n",
       "      <td>Askeladden - I Soria Moria slott</td>\n",
       "      <td>The Ash Lad: In Search of the Golden Castle</td>\n",
       "      <td>99.0</td>\n",
       "      <td>0.197183</td>\n",
       "    </tr>\n",
       "    <tr>\n",
       "      <th>1085760</th>\n",
       "      <td>2019-09-21 17:15:00</td>\n",
       "      <td>Askeladden - I Soria Moria slott</td>\n",
       "      <td>The Ash Lad: In Search of the Golden Castle</td>\n",
       "      <td>99.0</td>\n",
       "      <td>0.187793</td>\n",
       "    </tr>\n",
       "    <tr>\n",
       "      <th>1085919</th>\n",
       "      <td>2019-09-21 19:15:00</td>\n",
       "      <td>Rambo: Last Blood</td>\n",
       "      <td>Rambo: Last Blood</td>\n",
       "      <td>89.0</td>\n",
       "      <td>0.192488</td>\n",
       "    </tr>\n",
       "    <tr>\n",
       "      <th>1086105</th>\n",
       "      <td>2019-09-21 21:30:00</td>\n",
       "      <td>Rambo: Last Blood</td>\n",
       "      <td>Rambo: Last Blood</td>\n",
       "      <td>89.0</td>\n",
       "      <td>0.154930</td>\n",
       "    </tr>\n",
       "  </tbody>\n",
       "</table>\n",
       "</div>"
      ],
      "text/plain": [
       "                   showtime               tmdb_original_title  \\\n",
       "1085583 2019-09-21 13:00:00  Askeladden - I Soria Moria slott   \n",
       "1085637 2019-09-21 15:00:00  Askeladden - I Soria Moria slott   \n",
       "1085760 2019-09-21 17:15:00  Askeladden - I Soria Moria slott   \n",
       "1085919 2019-09-21 19:15:00                 Rambo: Last Blood   \n",
       "1086105 2019-09-21 21:30:00                 Rambo: Last Blood   \n",
       "\n",
       "                                          tmdb_title  tmdb_runtime  coverage  \n",
       "1085583  The Ash Lad: In Search of the Golden Castle          99.0  0.042254  \n",
       "1085637  The Ash Lad: In Search of the Golden Castle          99.0  0.197183  \n",
       "1085760  The Ash Lad: In Search of the Golden Castle          99.0  0.187793  \n",
       "1085919                            Rambo: Last Blood          89.0  0.192488  \n",
       "1086105                            Rambo: Last Blood          89.0  0.154930  "
      ]
     },
     "execution_count": 27,
     "metadata": {},
     "output_type": "execute_result"
    }
   ],
   "source": [
    "location.loc[(location.day == 21) & (location.room == 26003), ('showtime', 'tmdb_original_title', 'tmdb_title', 'tmdb_runtime', 'coverage')].sort_values(by='showtime')"
   ]
  },
  {
   "cell_type": "markdown",
   "metadata": {},
   "source": [
    "### The movies that were in the original schedule"
   ]
  },
  {
   "cell_type": "code",
   "execution_count": 28,
   "metadata": {},
   "outputs": [
    {
     "data": {
      "text/plain": [
       "Downton Abbey                                         20\n",
       "Toy Story 4                                           17\n",
       "The Ash Lad: In Search of the Golden Castle           14\n",
       "It Chapter Two                                        10\n",
       "Beware of Children                                     9\n",
       "Tomboy                                                 8\n",
       "Good Boys                                              8\n",
       "Rambo: Last Blood                                      7\n",
       "Once Upon a Time… in Hollywood                         7\n",
       "Dora and the Lost City of Gold                         7\n",
       "Angel Has Fallen                                       7\n",
       "Ad Astra                                               6\n",
       "Fast & Furious Presents: Hobbs & Shaw                  4\n",
       "Amazing Grace                                          4\n",
       "Queen of Hearts                                        3\n",
       "Scary Stories to Tell in the Dark                      3\n",
       "Yomeddine                                              3\n",
       "Kaptein Sabeltann og jakten på den magiske diamant     2\n",
       "The Secret Life of Pets 2                              2\n",
       "Apollo 11                                              2\n",
       "Orps: The Movie                                        1\n",
       "The Game Changers                                      1\n",
       "Name: tmdb_title, dtype: int64"
      ]
     },
     "execution_count": 28,
     "metadata": {},
     "output_type": "execute_result"
    }
   ],
   "source": [
    "location.tmdb_title.value_counts()"
   ]
  },
  {
   "cell_type": "markdown",
   "metadata": {},
   "source": [
    "### The movies that were in the suggested schedule"
   ]
  },
  {
   "cell_type": "code",
   "execution_count": 29,
   "metadata": {},
   "outputs": [
    {
     "data": {
      "text/plain": [
       "The Ash Lad: In Search of the Golden Castle    74\n",
       "Orps: The Movie                                33\n",
       "It Chapter Two                                 30\n",
       "Toy Story 4                                    19\n",
       "Downton Abbey                                   9\n",
       "Yomeddine                                       3\n",
       "Angel Has Fallen                                2\n",
       "Name: tmdb_title, dtype: int64"
      ]
     },
     "execution_count": 29,
     "metadata": {},
     "output_type": "execute_result"
    }
   ],
   "source": [
    "screenings.tmdb_title.value_counts()"
   ]
  },
  {
   "cell_type": "markdown",
   "metadata": {},
   "source": [
    "### The number of screenings between the original and the suggestion"
   ]
  },
  {
   "cell_type": "code",
   "execution_count": 33,
   "metadata": {},
   "outputs": [
    {
     "name": "stdout",
     "output_type": "stream",
     "text": [
      "Screenings in the original schedule: 145\n",
      "Screenings in the suggested schedule: 170\n"
     ]
    }
   ],
   "source": [
    "print('Screenings in the original schedule:', location.shape[0])\n",
    "print('Screenings in the suggested schedule:', screenings.shape[0])"
   ]
  }
 ],
 "metadata": {
  "kernelspec": {
   "display_name": "Python 3",
   "language": "python",
   "name": "python3"
  },
  "language_info": {
   "codemirror_mode": {
    "name": "ipython",
    "version": 3
   },
   "file_extension": ".py",
   "mimetype": "text/x-python",
   "name": "python",
   "nbconvert_exporter": "python",
   "pygments_lexer": "ipython3",
   "version": "3.7.2"
  }
 },
 "nbformat": 4,
 "nbformat_minor": 4
}
