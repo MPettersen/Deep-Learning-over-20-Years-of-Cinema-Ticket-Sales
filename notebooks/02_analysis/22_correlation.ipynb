{
 "cells": [
  {
   "cell_type": "code",
   "execution_count": 2,
   "metadata": {},
   "outputs": [],
   "source": [
    "%reload_ext autoreload\n",
    "%autoreload 2\n",
    "%matplotlib inline"
   ]
  },
  {
   "cell_type": "code",
   "execution_count": 3,
   "metadata": {},
   "outputs": [],
   "source": [
    "import calendar\n",
    "import numpy as np\n",
    "import pandas as pd\n",
    "from joblib import load\n",
    "\n",
    "from helper import *"
   ]
  },
  {
   "cell_type": "code",
   "execution_count": 4,
   "metadata": {},
   "outputs": [],
   "source": [
    "showings = load('../data/showings_extra_feature.joblib')\n",
    "showings.replace(np.inf, 0, inplace=True)\n",
    "genres = load('../data/genres.joblib')"
   ]
  },
  {
   "cell_type": "code",
   "execution_count": 5,
   "metadata": {},
   "outputs": [],
   "source": [
    "pd.set_option('display.max_rows', 500)\n",
    "pd.set_option('display.max_columns', 500)\n",
    "pd.set_option('display.width', 1000)"
   ]
  },
  {
   "cell_type": "code",
   "execution_count": 6,
   "metadata": {},
   "outputs": [],
   "source": [
    "week_of_release = showings.loc[showings.days_since_release < 7]"
   ]
  },
  {
   "cell_type": "markdown",
   "metadata": {},
   "source": [
    "# Correlation"
   ]
  },
  {
   "cell_type": "code",
   "execution_count": 13,
   "metadata": {},
   "outputs": [
    {
     "data": {
      "text/plain": [
       "arr_nr                  0.032434\n",
       "sold                    0.671881\n",
       "room                   -0.069707\n",
       "seats                  -0.237365\n",
       "seats_b                -0.236241\n",
       "coverage                1.000000\n",
       "location               -0.069678\n",
       "tmdb_popularity         0.047783\n",
       "tmdb_vote_average       0.126205\n",
       "tmdb_vote_count         0.120846\n",
       "tmdb_id                -0.088792\n",
       "tmdb_runtime            0.112614\n",
       "tmdb_budget             0.104323\n",
       "tmdb_revenue            0.186784\n",
       "year                   -0.059347\n",
       "month                   0.125295\n",
       "week                    0.130323\n",
       "day                     0.057531\n",
       "dayofweek               0.069461\n",
       "dayofyear               0.129292\n",
       "is_month_end            0.020194\n",
       "is_month_start         -0.001581\n",
       "is_quarter_end          0.031414\n",
       "is_quarter_start        0.002263\n",
       "is_year_end             0.012610\n",
       "is_year_start           0.002942\n",
       "hour                   -0.034019\n",
       "minute                 -0.021876\n",
       "second                  0.020931\n",
       "weekday_cos            -0.138822\n",
       "weekday_sin            -0.040960\n",
       "day_month_cos          -0.007636\n",
       "day_month_sin          -0.052572\n",
       "month_year_cos          0.056018\n",
       "month_year_sin         -0.110959\n",
       "day_year_cos            0.082481\n",
       "day_year_sin           -0.093760\n",
       "hour_cos               -0.009960\n",
       "hour_sin                0.016527\n",
       "clock_cos               0.006850\n",
       "clock_sin               0.013106\n",
       "min_cos                 0.015447\n",
       "min_sin                -0.000772\n",
       "sec_cos                -0.020794\n",
       "sec_sin                 0.021536\n",
       "is_holiday              0.031775\n",
       "days_since_release     -0.071904\n",
       "tfidf_overview         -0.000566\n",
       "tfidf_full_title        0.095977\n",
       "tfidf_stripped_title    0.102001\n",
       "tfidf_tmdb_title        0.066637\n",
       "Name: coverage, dtype: float64"
      ]
     },
     "execution_count": 13,
     "metadata": {},
     "output_type": "execute_result"
    }
   ],
   "source": [
    "week_of_release.corr().loc[:, 'coverage']"
   ]
  },
  {
   "cell_type": "code",
   "execution_count": 14,
   "metadata": {},
   "outputs": [
    {
     "data": {
      "text/plain": [
       "arr_nr                  0.063521\n",
       "sold                    0.646525\n",
       "room                   -0.051242\n",
       "seats                  -0.252894\n",
       "seats_b                -0.252382\n",
       "coverage                1.000000\n",
       "location               -0.051218\n",
       "tmdb_popularity         0.016983\n",
       "tmdb_vote_average       0.054716\n",
       "tmdb_vote_count         0.071172\n",
       "tmdb_id                -0.030133\n",
       "tmdb_runtime            0.031617\n",
       "tmdb_budget             0.045093\n",
       "tmdb_revenue            0.112569\n",
       "year                   -0.043329\n",
       "month                   0.063925\n",
       "week                    0.064316\n",
       "day                     0.004580\n",
       "dayofweek               0.082273\n",
       "dayofyear               0.064606\n",
       "is_month_end            0.008495\n",
       "is_month_start          0.011303\n",
       "is_quarter_end          0.008024\n",
       "is_quarter_start        0.009231\n",
       "is_year_end             0.013629\n",
       "is_year_start           0.017561\n",
       "hour                   -0.060322\n",
       "minute                 -0.007547\n",
       "second                  0.036436\n",
       "weekday_cos            -0.130453\n",
       "weekday_sin            -0.078235\n",
       "day_month_cos           0.011934\n",
       "day_month_sin          -0.010778\n",
       "month_year_cos          0.048302\n",
       "month_year_sin         -0.090871\n",
       "day_year_cos            0.066220\n",
       "day_year_sin           -0.074744\n",
       "hour_cos               -0.039975\n",
       "hour_sin                0.063884\n",
       "clock_cos               0.036940\n",
       "clock_sin               0.013684\n",
       "min_cos                 0.002821\n",
       "min_sin                 0.002044\n",
       "sec_cos                -0.036249\n",
       "sec_sin                 0.036867\n",
       "is_holiday              0.013555\n",
       "days_since_release     -0.086872\n",
       "tfidf_overview          0.002025\n",
       "tfidf_full_title        0.055161\n",
       "tfidf_stripped_title    0.049566\n",
       "tfidf_tmdb_title        0.046799\n",
       "Name: coverage, dtype: float64"
      ]
     },
     "execution_count": 14,
     "metadata": {},
     "output_type": "execute_result"
    }
   ],
   "source": [
    "showings.corr().loc[:, 'coverage']"
   ]
  },
  {
   "cell_type": "code",
   "execution_count": 8,
   "metadata": {},
   "outputs": [
    {
     "data": {
      "text/plain": [
       "arr_nr                  0.011626\n",
       "sold                    0.057478\n",
       "room                    0.008126\n",
       "seats                   0.008590\n",
       "seats_b                 0.010208\n",
       "coverage                0.054716\n",
       "location                0.008115\n",
       "tmdb_popularity         0.273331\n",
       "tmdb_vote_average       1.000000\n",
       "tmdb_vote_count         0.347203\n",
       "tmdb_id                -0.121717\n",
       "tmdb_runtime            0.376953\n",
       "tmdb_budget             0.232714\n",
       "tmdb_revenue            0.275714\n",
       "year                    0.023410\n",
       "month                   0.076269\n",
       "week                    0.076524\n",
       "day                     0.019404\n",
       "dayofweek              -0.007686\n",
       "dayofyear               0.077237\n",
       "is_month_end            0.004289\n",
       "is_month_start         -0.003449\n",
       "is_quarter_end         -0.000595\n",
       "is_quarter_start       -0.013371\n",
       "is_year_end             0.012850\n",
       "is_year_start          -0.009881\n",
       "hour                    0.042467\n",
       "minute                  0.005187\n",
       "second                 -0.006307\n",
       "weekday_cos             0.005285\n",
       "weekday_sin             0.009641\n",
       "day_month_cos          -0.008239\n",
       "day_month_sin          -0.018784\n",
       "month_year_cos         -0.050351\n",
       "month_year_sin         -0.032017\n",
       "day_year_cos           -0.042082\n",
       "day_year_sin           -0.040073\n",
       "hour_cos                0.046158\n",
       "hour_sin               -0.029154\n",
       "clock_cos              -0.022268\n",
       "clock_sin              -0.039141\n",
       "min_cos                -0.004695\n",
       "min_sin                -0.001094\n",
       "sec_cos                 0.006494\n",
       "sec_sin                -0.005992\n",
       "is_holiday              0.001054\n",
       "days_since_release      0.071156\n",
       "tfidf_overview          0.119008\n",
       "tfidf_full_title        0.078416\n",
       "tfidf_stripped_title    0.037895\n",
       "tfidf_tmdb_title       -0.047258\n",
       "Name: tmdb_vote_average, dtype: float64"
      ]
     },
     "execution_count": 8,
     "metadata": {},
     "output_type": "execute_result"
    }
   ],
   "source": [
    "showings.corr().loc[:, 'tmdb_vote_average']"
   ]
  }
 ],
 "metadata": {
  "kernelspec": {
   "display_name": "Python 3",
   "language": "python",
   "name": "python3"
  },
  "language_info": {
   "codemirror_mode": {
    "name": "ipython",
    "version": 3
   },
   "file_extension": ".py",
   "mimetype": "text/x-python",
   "name": "python",
   "nbconvert_exporter": "python",
   "pygments_lexer": "ipython3",
   "version": "3.7.2"
  }
 },
 "nbformat": 4,
 "nbformat_minor": 4
}
