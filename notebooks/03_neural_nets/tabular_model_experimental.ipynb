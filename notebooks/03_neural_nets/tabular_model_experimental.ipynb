{
 "cells": [
  {
   "cell_type": "markdown",
   "metadata": {},
   "source": [
    "# Fastai TabularModel expermintal setup\n",
    "\n",
    "This notebook is used for hyperparametertuning"
   ]
  },
  {
   "cell_type": "code",
   "execution_count": 1,
   "metadata": {},
   "outputs": [],
   "source": [
    "%reload_ext autoreload\n",
    "%autoreload 2\n",
    "%matplotlib inline"
   ]
  },
  {
   "cell_type": "code",
   "execution_count": 2,
   "metadata": {},
   "outputs": [],
   "source": [
    "from __future__ import absolute_import, division, print_function, unicode_literals\n",
    "\n",
    "import holidays\n",
    "import pandas as pd\n",
    "import datetime as dt\n",
    "import matplotlib.pyplot as plt\n",
    "\n",
    "from fastai.tabular import *\n",
    "from joblib import load, dump\n",
    "from torch import nn, optim\n",
    "from sklearn.metrics import mean_absolute_error"
   ]
  },
  {
   "cell_type": "code",
   "execution_count": 3,
   "metadata": {},
   "outputs": [],
   "source": [
    "data = '../data/'\n",
    "showings = load(data+'showings_extra_feature.joblib')\n",
    "showings.replace(np.inf, 0, inplace=True)\n",
    "showings.sort_values(by='showtime', inplace=True)\n",
    "showings.reset_index(drop=True, inplace=True)"
   ]
  },
  {
   "cell_type": "markdown",
   "metadata": {},
   "source": [
    "### Create the train/validation split"
   ]
  },
  {
   "cell_type": "code",
   "execution_count": 4,
   "metadata": {},
   "outputs": [],
   "source": [
    "train_valid = showings.loc[(showings.year > 1999) & (showings.year < 2019)]\n",
    "train_valid.reset_index(drop=True, inplace=True)\n",
    "split = list(train_valid.loc[train_valid.year > 2016].index)"
   ]
  },
  {
   "cell_type": "markdown",
   "metadata": {},
   "source": [
    "### Declare what the different columns are\n",
    "\n",
    "dep_var    = Target Feature  \n",
    "cat_names  = Categorical Features  \n",
    "cont_names = Continuous Features  "
   ]
  },
  {
   "cell_type": "code",
   "execution_count": 5,
   "metadata": {},
   "outputs": [],
   "source": [
    "dep_var = 'coverage'\n",
    "cat_names = ['room',\n",
    "             'tmdb_original_language',\n",
    "             'year',\n",
    "             'month',\n",
    "             'week',\n",
    "             'day',\n",
    "             'hour',\n",
    "             'minute',\n",
    "             'dayofweek',\n",
    "             'dayofyear',\n",
    "             'is_month_end',\n",
    "             'is_month_start',\n",
    "             'is_quarter_end',\n",
    "             'is_quarter_start',\n",
    "             'is_year_end',\n",
    "             'is_year_start',\n",
    "             'is_holiday',\n",
    "             'days_since_release',\n",
    "             'Action',\n",
    "             'Adventure',\n",
    "             'Animation',\n",
    "             'Comedy',\n",
    "             'Crime',\n",
    "             'Documentary',\n",
    "             'Drama',\n",
    "             'Family',\n",
    "             'Fantasy',\n",
    "             'History',\n",
    "             'Horror',\n",
    "             'Music',\n",
    "             'Mystery',\n",
    "             'Romance',\n",
    "             'Science Fiction',\n",
    "             'TV Movie',\n",
    "             'Thriller',\n",
    "             'War',\n",
    "             'Western']\n",
    "cont_names = ['seats',\n",
    "              'tmdb_popularity',\n",
    "              'tmdb_vote_average',\n",
    "              'tmdb_vote_count',\n",
    "              'tmdb_runtime',\n",
    "              'tmdb_budget',\n",
    "              'weekday_cos',\n",
    "              'weekday_sin',\n",
    "              'day_month_cos',\n",
    "              'day_month_sin',\n",
    "              'month_year_cos',\n",
    "              'month_year_sin',\n",
    "              'day_year_cos',\n",
    "              'day_year_sin',\n",
    "              'hour_cos',\n",
    "              'hour_sin',\n",
    "              'clock_cos',\n",
    "              'clock_sin',\n",
    "              'min_cos',\n",
    "              'min_sin']\n",
    "procs = [FillMissing, Categorify, Normalize]"
   ]
  },
  {
   "cell_type": "markdown",
   "metadata": {},
   "source": [
    "### Put the data into Databunches that the TabularModel will use"
   ]
  },
  {
   "cell_type": "code",
   "execution_count": 6,
   "metadata": {},
   "outputs": [],
   "source": [
    "data = (TabularList.from_df(train_valid, cat_names=cat_names, cont_names=cont_names, procs=procs)\n",
    "                   .split_by_idx(split)\n",
    "                   .label_from_df(cols=dep_var)\n",
    "                   .databunch())\n",
    "\n",
    "test_set = showings.loc[(showings.year > 2018) & (showings.year < 2020)]\n",
    "test_set.reset_index(drop=True, inplace=True)\n",
    "test = (TabularList.from_df(test_set,\n",
    "                            cat_names=cat_names, cont_names=cont_names, procs=procs)\n",
    "                   .split_none()\n",
    "                   .label_from_df(cols=dep_var))\n",
    "test.valid = test.train\n",
    "test = test.databunch()"
   ]
  },
  {
   "cell_type": "code",
   "execution_count": 7,
   "metadata": {},
   "outputs": [],
   "source": [
    "learn = tabular_learner(\n",
    "                        data, layers=[1000, 500, 250, 125], emb_szs={'room': 333},\n",
    "                        metrics=mae, y_range=[-.01,1.01],\n",
    "                        emb_drop=0.15,\n",
    "                        ps=(0.00, 0.20, 0.15, 0.95)\n",
    "                       )"
   ]
  },
  {
   "cell_type": "code",
   "execution_count": 8,
   "metadata": {},
   "outputs": [],
   "source": [
    "learn.opt_func = partial(\n",
    "    optim.Adam,\n",
    "    betas   = (0.99, 0.99), # default: (0.9, 0.99)\n",
    "    eps     = 1e-3,         # default: 1e-8\n",
    "    amsgrad = False         # default: False\n",
    ")"
   ]
  },
  {
   "cell_type": "code",
   "execution_count": null,
   "metadata": {},
   "outputs": [],
   "source": [
    "learn.fit_one_cycle(\n",
    "    8, \n",
    "    max_lr = 1e-3,\n",
    "    wd     = 0.15,\n",
    "    moms   = (0.95, 0.85)\n",
    ")"
   ]
  },
  {
   "cell_type": "markdown",
   "metadata": {},
   "source": [
    "### Save the model"
   ]
  },
  {
   "cell_type": "code",
   "execution_count": null,
   "metadata": {},
   "outputs": [],
   "source": [
    "learn.save('test_tabular_use_this')"
   ]
  },
  {
   "cell_type": "code",
   "execution_count": null,
   "metadata": {},
   "outputs": [],
   "source": [
    "train_dl = data.train_dl\n",
    "valid_dl = data.valid_dl\n",
    "test_dl = test.valid_dl"
   ]
  },
  {
   "cell_type": "markdown",
   "metadata": {},
   "source": [
    "### Get predictions for train, validation and test sets"
   ]
  },
  {
   "cell_type": "code",
   "execution_count": null,
   "metadata": {},
   "outputs": [],
   "source": [
    "preds_train = learn.get_preds(ds_type=DatasetType.Train)\n",
    "preds_valid = learn.get_preds(ds_type=DatasetType.Valid)\n",
    "# Changing the dataloader so that we can get predictions for the test set\n",
    "learn.data.valid_dl = test_dl\n",
    "preds_test = learn.get_preds(ds_type=DatasetType.Valid)"
   ]
  },
  {
   "cell_type": "markdown",
   "metadata": {},
   "source": [
    "### Calculates and prints the Mean Absolute Error"
   ]
  },
  {
   "cell_type": "code",
   "execution_count": null,
   "metadata": {},
   "outputs": [],
   "source": [
    "(\n",
    "    round(mean_absolute_error(preds_train[1], preds_train[0].T[0]), 4),\n",
    "    round(mean_absolute_error(preds_valid[1], preds_valid[0].T[0]), 4),\n",
    "    round(mean_absolute_error(preds_test[1],  preds_test[0].T[0]), 4)\n",
    ")"
   ]
  },
  {
   "cell_type": "code",
   "execution_count": 16,
   "metadata": {},
   "outputs": [
    {
     "data": {
      "text/plain": [
       "<matplotlib.legend.Legend at 0x1e3872a3b70>"
      ]
     },
     "execution_count": 16,
     "metadata": {},
     "output_type": "execute_result"
    },
    {
     "data": {
      "image/png": "[encoded data removed]",
      "text/plain": [
       "<Figure size 432x288 with 1 Axes>"
      ]
     },
     "metadata": {
      "needs_background": "light"
     },
     "output_type": "display_data"
    }
   ],
   "source": [
    "plt.hist(preds_train[1])\n",
    "plt.hist(preds_train[0].T[0], alpha=.7)\n",
    "plt.legend(('true', 'pred'))"
   ]
  },
  {
   "cell_type": "code",
   "execution_count": 17,
   "metadata": {},
   "outputs": [
    {
     "data": {
      "text/plain": [
       "<matplotlib.legend.Legend at 0x1e3871a2470>"
      ]
     },
     "execution_count": 17,
     "metadata": {},
     "output_type": "execute_result"
    },
    {
     "data": {
      "image/png": "[encoded data removed]",
      "text/plain": [
       "<Figure size 432x288 with 1 Axes>"
      ]
     },
     "metadata": {
      "needs_background": "light"
     },
     "output_type": "display_data"
    }
   ],
   "source": [
    "plt.hist(preds_valid[1])\n",
    "plt.hist(preds_valid[0].T[0], alpha=.7)\n",
    "plt.legend(('true', 'pred'))"
   ]
  },
  {
   "cell_type": "code",
   "execution_count": 18,
   "metadata": {},
   "outputs": [
    {
     "data": {
      "text/plain": [
       "<matplotlib.legend.Legend at 0x1e3875d3128>"
      ]
     },
     "execution_count": 18,
     "metadata": {},
     "output_type": "execute_result"
    },
    {
     "data": {
      "image/png": "[encoded data removed]",
      "text/plain": [
       "<Figure size 432x288 with 1 Axes>"
      ]
     },
     "metadata": {
      "needs_background": "light"
     },
     "output_type": "display_data"
    }
   ],
   "source": [
    "plt.hist(preds_test[1])\n",
    "plt.hist(preds_test[0].T[0], alpha=.7)\n",
    "plt.legend(('true', 'pred'))"
   ]
  },
  {
   "cell_type": "code",
   "execution_count": 21,
   "metadata": {},
   "outputs": [
    {
     "data": {
      "text/plain": [
       "TabularModel(\n",
       "  (embeds): ModuleList(\n",
       "    (0): Embedding(333, 41)\n",
       "    (1): Embedding(153, 27)\n",
       "    (2): Embedding(17, 8)\n",
       "    (3): Embedding(13, 7)\n",
       "    (4): Embedding(54, 15)\n",
       "    (5): Embedding(32, 11)\n",
       "    (6): Embedding(8, 5)\n",
       "    (7): Embedding(367, 44)\n",
       "    (8): Embedding(3, 3)\n",
       "    (9): Embedding(3, 3)\n",
       "    (10): Embedding(3, 3)\n",
       "    (11): Embedding(3, 3)\n",
       "    (12): Embedding(3, 3)\n",
       "    (13): Embedding(3, 3)\n",
       "    (14): Embedding(25, 10)\n",
       "    (15): Embedding(48, 14)\n",
       "    (16): Embedding(3, 3)\n",
       "  )\n",
       "  (emb_drop): Dropout(p=0.4, inplace=False)\n",
       "  (bn_cont): BatchNorm1d(7, eps=1e-05, momentum=0.1, affine=True, track_running_stats=True)\n",
       "  (layers): Sequential(\n",
       "    (0): Linear(in_features=210, out_features=1000, bias=True)\n",
       "    (1): ReLU(inplace=True)\n",
       "    (2): BatchNorm1d(1000, eps=1e-05, momentum=0.1, affine=True, track_running_stats=True)\n",
       "    (3): Linear(in_features=1000, out_features=500, bias=True)\n",
       "    (4): ReLU(inplace=True)\n",
       "    (5): BatchNorm1d(500, eps=1e-05, momentum=0.1, affine=True, track_running_stats=True)\n",
       "    (6): Dropout(p=0.45, inplace=False)\n",
       "    (7): Linear(in_features=500, out_features=250, bias=True)\n",
       "    (8): ReLU(inplace=True)\n",
       "    (9): BatchNorm1d(250, eps=1e-05, momentum=0.1, affine=True, track_running_stats=True)\n",
       "    (10): Linear(in_features=250, out_features=125, bias=True)\n",
       "    (11): ReLU(inplace=True)\n",
       "    (12): BatchNorm1d(125, eps=1e-05, momentum=0.1, affine=True, track_running_stats=True)\n",
       "    (13): Linear(in_features=125, out_features=1, bias=True)\n",
       "  )\n",
       ")"
      ]
     },
     "execution_count": 21,
     "metadata": {},
     "output_type": "execute_result"
    }
   ],
   "source": [
    "learn.model"
   ]
  }
 ],
 "metadata": {
  "kernelspec": {
   "display_name": "Python 3",
   "language": "python",
   "name": "python3"
  },
  "language_info": {
   "codemirror_mode": {
    "name": "ipython",
    "version": 3
   },
   "file_extension": ".py",
   "mimetype": "text/x-python",
   "name": "python",
   "nbconvert_exporter": "python",
   "pygments_lexer": "ipython3",
   "version": "3.7.2"
  }
 },
 "nbformat": 4,
 "nbformat_minor": 4
}
