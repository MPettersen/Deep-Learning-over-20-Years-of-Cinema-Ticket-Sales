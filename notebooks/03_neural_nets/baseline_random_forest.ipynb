{
 "cells": [
  {
   "cell_type": "markdown",
   "metadata": {},
   "source": [
    "# Test of some sort"
   ]
  },
  {
   "cell_type": "code",
   "execution_count": 1,
   "metadata": {},
   "outputs": [],
   "source": [
    "# Allows imported code to be updated without the need of running the import statement after each update\n",
    "%load_ext autoreload\n",
    "%autoreload 2"
   ]
  },
  {
   "cell_type": "code",
   "execution_count": 2,
   "metadata": {},
   "outputs": [],
   "source": [
    "import os\n",
    "import torch\n",
    "import numpy as np\n",
    "import pandas as pd\n",
    "\n",
    "from fastai.torch_core import *\n",
    "from joblib import load, dump\n",
    "from sklearn import tree, preprocessing\n",
    "from sklearn.ensemble import RandomForestRegressor\n",
    "from sklearn.metrics import mean_absolute_error"
   ]
  },
  {
   "cell_type": "code",
   "execution_count": 3,
   "metadata": {},
   "outputs": [],
   "source": [
    "data = '../data/'\n",
    "showings = load(data+'showings_extra_feature.joblib')\n",
    "showings.replace(np.inf, 0, inplace=True)\n",
    "showings.sort_values(by='showtime', inplace=True)\n",
    "showings.reset_index(drop=True, inplace=True)"
   ]
  },
  {
   "cell_type": "code",
   "execution_count": 4,
   "metadata": {},
   "outputs": [],
   "source": [
    "showings.loc[showings.tmdb_runtime.isna(), 'tmdb_runtime'] = round(showings.tmdb_runtime.mean())"
   ]
  },
  {
   "cell_type": "markdown",
   "metadata": {},
   "source": [
    "### Functions modified from the fastai library to implement embedding of categorical features for use outside of fastai"
   ]
  },
  {
   "cell_type": "code",
   "execution_count": 6,
   "metadata": {},
   "outputs": [],
   "source": [
    "def ifnone(a, b):\n",
    "    \"\"\"\n",
    "    'a' if 'a' is not None, otherwise 'b'.\n",
    "    \"\"\"\n",
    "    return b if a is None else a\n",
    "\n",
    "def emb_sz_rule(n_cat:int)->int: return min(600, round(1.6 * n_cat**0.56))\n",
    "\n",
    "def def_emb_sz(classes, n, sz_dict=None):\n",
    "    \"\"\"\n",
    "    Pick an embedding size for `n` depending on `classes` if not given in `sz_dict`.\n",
    "    \"\"\"\n",
    "    sz_dict = ifnone(sz_dict, {})\n",
    "    n_cat = len(classes[n])\n",
    "    sz = sz_dict.get(n, int(emb_sz_rule(n_cat)))  # rule of thumb\n",
    "    return n_cat,sz\n",
    "\n",
    "def get_emb_szs(classes, cat_names, sz_dict=None):\n",
    "    \"\"\"\n",
    "    Return the default embedding sizes suitable for this data or takes the ones in `sz_dict`.\n",
    "    \"\"\"\n",
    "    return [def_emb_sz(classes, n, sz_dict) for n in cat_names]\n",
    "\n",
    "def trunc_normal_(x:Tensor, mean:float=0., std:float=1.) -> Tensor:\n",
    "    \"\"\"\n",
    "    Truncated normal initialization.\n",
    "    \"\"\"\n",
    "    return x.normal_().fmod_(2).mul_(std).add_(mean)\n",
    "\n",
    "def embedding(ni:int,nf:int) -> nn.Module:\n",
    "    \"\"\"\n",
    "    Create an embedding layer.\n",
    "    \"\"\"\n",
    "    emb = nn.Embedding(ni, nf)\n",
    "    with torch.no_grad(): trunc_normal_(emb.weight, std=0.01)\n",
    "    return emb"
   ]
  },
  {
   "cell_type": "markdown",
   "metadata": {},
   "source": [
    "## Embedder\n",
    "\n",
    "Adding the embeddings of the categorical features to the dataframe"
   ]
  },
  {
   "cell_type": "code",
   "execution_count": 7,
   "metadata": {},
   "outputs": [],
   "source": [
    "def embedder(data:pd.DataFrame, cat_names:list):\n",
    "    \"\"\"\n",
    "    A custom embedder based on the built-in functionality from fastai's TabularModel\n",
    "    \"\"\"\n",
    "    classes = dict()\n",
    "    values = dict()\n",
    "    label_encoders = dict()\n",
    "    for cat in cat_names:\n",
    "        classes[cat] = data.loc[:, cat].unique().tolist()\n",
    "        values[cat] = data.loc[:, cat].tolist()\n",
    "        label_encoders[cat] = {'encoder': preprocessing.LabelEncoder()}\n",
    "        label_encoders[cat]['targets'] = torch.LongTensor(label_encoders[cat]['encoder'].fit_transform(classes[cat]))\n",
    "    emb_szs = get_emb_szs(classes, cat_names)\n",
    "    embeds = nn.ModuleList([embedding(ni, nf) for ni,nf in emb_szs])\n",
    "    for i, j in enumerate(label_encoders.values()):\n",
    "        j['embeddings'] = dict()\n",
    "        for target in j['targets']:\n",
    "            j['embeddings'][target.item()] = embeds[i](target).tolist()\n",
    "    \n",
    "    test = {cat: emb(torch.LongTensor(label_encoders[cat]['encoder'].transform(values[cat]))).detach().numpy() for cat, emb in zip(cat_names, embeds)}\n",
    "    \n",
    "    for cat, emb_sz in zip(cat_names, emb_szs):\n",
    "        sz = emb_sz[1]\n",
    "        for i in range(sz):\n",
    "            data[cat+'_emb_'+str(i)] = test[cat][:, i]"
   ]
  },
  {
   "cell_type": "code",
   "execution_count": 8,
   "metadata": {},
   "outputs": [],
   "source": [
    "# Every categorical feature\n",
    "cat_names = ['room',\n",
    "             'location',\n",
    "             'year',\n",
    "             'month',\n",
    "             'week',\n",
    "             'day',\n",
    "             'dayofweek',\n",
    "             'dayofyear',\n",
    "             'is_month_end',\n",
    "             'is_month_start',\n",
    "             'is_quarter_end',\n",
    "             'is_quarter_start',\n",
    "             'is_year_end',\n",
    "             'is_year_start',\n",
    "             'hour',\n",
    "             'minute',\n",
    "             'second',\n",
    "             'is_holiday',\n",
    "             'days_since_release',\n",
    "             'Action',\n",
    "             'Adventure',\n",
    "             'Animation',\n",
    "             'Comedy',\n",
    "             'Crime',\n",
    "             'Documentary',\n",
    "             'Drama',\n",
    "             'Family',\n",
    "             'Fantasy',\n",
    "             'History',\n",
    "             'Horror',\n",
    "             'Music',\n",
    "             'Mystery',\n",
    "             'Romance',\n",
    "             'Science Fiction',\n",
    "             'TV Movie',\n",
    "             'Thriller',\n",
    "             'War',\n",
    "             'Western']"
   ]
  },
  {
   "cell_type": "code",
   "execution_count": 9,
   "metadata": {},
   "outputs": [
    {
     "name": "stdout",
     "output_type": "stream",
     "text": [
      "Wall time: 6.67 s\n"
     ]
    }
   ],
   "source": [
    "embedder(showings, cat_names)"
   ]
  },
  {
   "cell_type": "code",
   "execution_count": 10,
   "metadata": {},
   "outputs": [
    {
     "data": {
      "text/plain": [
       "((736080, 367), (257940, 367), (132328, 367))"
      ]
     },
     "execution_count": 10,
     "metadata": {},
     "output_type": "execute_result"
    }
   ],
   "source": [
    "train = showings.loc[(showings.year >= 2001) & (showings.year <= 2016)]\n",
    "valid = showings.loc[(showings.year == 2017) | (showings.year == 2018)]\n",
    "test  = showings.loc[showings.year == 2019]\n",
    "\n",
    "train.shape, valid.shape, test.shape"
   ]
  },
  {
   "cell_type": "code",
   "execution_count": 11,
   "metadata": {},
   "outputs": [],
   "source": [
    "dep_var = 'coverage'\n",
    "# Every categorical embedding needs to be defined\n",
    "cont_names = ['room_emb_0', 'room_emb_1', 'room_emb_2', 'room_emb_3', 'room_emb_4', 'room_emb_5', 'room_emb_6', 'room_emb_7', 'room_emb_8', 'room_emb_9', 'room_emb_10', 'room_emb_11', 'room_emb_12', 'room_emb_13', 'room_emb_14', 'room_emb_15', 'room_emb_16', 'room_emb_17', 'room_emb_18', 'room_emb_19', 'room_emb_20', 'room_emb_21', 'room_emb_22', 'room_emb_23', 'room_emb_24', 'room_emb_25', 'room_emb_26', 'room_emb_27', 'room_emb_28', 'room_emb_29', 'room_emb_30', 'room_emb_31', 'room_emb_32', 'room_emb_33', 'room_emb_34', 'room_emb_35', 'room_emb_36', 'room_emb_37', 'room_emb_38', 'room_emb_39', 'room_emb_40', 'room_emb_41', 'room_emb_42', 'room_emb_43', 'room_emb_44', 'room_emb_45', 'room_emb_46', 'room_emb_47',\n",
    "              'location_emb_0', 'location_emb_1', 'location_emb_2', 'location_emb_3', 'location_emb_4', 'location_emb_5', 'location_emb_6', 'location_emb_7', 'location_emb_8', 'location_emb_9', 'location_emb_10', 'location_emb_11', 'location_emb_12', 'location_emb_13', 'location_emb_14', 'location_emb_15', 'location_emb_16', 'location_emb_17', 'location_emb_18', 'location_emb_19', 'location_emb_20', 'location_emb_21', 'location_emb_22', 'location_emb_23', 'location_emb_24', 'location_emb_25',\n",
    "              'year_emb_0', 'year_emb_1', 'year_emb_2', 'year_emb_3', 'year_emb_4', 'year_emb_5', 'year_emb_6', 'year_emb_7', 'year_emb_8',\n",
    "              'month_emb_0', 'month_emb_1', 'month_emb_2', 'month_emb_3', 'month_emb_4', 'month_emb_5',\n",
    "              'week_emb_0', 'week_emb_1', 'week_emb_2', 'week_emb_3', 'week_emb_4', 'week_emb_5', 'week_emb_6', 'week_emb_7', 'week_emb_8', 'week_emb_9', 'week_emb_10', 'week_emb_11', 'week_emb_12', 'week_emb_13', 'week_emb_14',\n",
    "              'day_emb_0', 'day_emb_1', 'day_emb_2', 'day_emb_3', 'day_emb_4', 'day_emb_5', 'day_emb_6', 'day_emb_7', 'day_emb_8', 'day_emb_9', 'day_emb_10',\n",
    "              'dayofweek_emb_0', 'dayofweek_emb_1', 'dayofweek_emb_2', 'dayofweek_emb_3', 'dayofweek_emb_4',\n",
    "              'dayofyear_emb_0', 'dayofyear_emb_1', 'dayofyear_emb_2', 'dayofyear_emb_3', 'dayofyear_emb_4', 'dayofyear_emb_5', 'dayofyear_emb_6', 'dayofyear_emb_7', 'dayofyear_emb_8', 'dayofyear_emb_9', 'dayofyear_emb_10', 'dayofyear_emb_11', 'dayofyear_emb_12', 'dayofyear_emb_13', 'dayofyear_emb_14', 'dayofyear_emb_15', 'dayofyear_emb_16', 'dayofyear_emb_17', 'dayofyear_emb_18', 'dayofyear_emb_19', 'dayofyear_emb_20', 'dayofyear_emb_21', 'dayofyear_emb_22', 'dayofyear_emb_23', 'dayofyear_emb_24', 'dayofyear_emb_25', 'dayofyear_emb_26', 'dayofyear_emb_27', 'dayofyear_emb_28', 'dayofyear_emb_29', 'dayofyear_emb_30', 'dayofyear_emb_31', 'dayofyear_emb_32', 'dayofyear_emb_33', 'dayofyear_emb_34', 'dayofyear_emb_35', 'dayofyear_emb_36', 'dayofyear_emb_37', 'dayofyear_emb_38', 'dayofyear_emb_39', 'dayofyear_emb_40', 'dayofyear_emb_41', 'dayofyear_emb_42', 'dayofyear_emb_43',\n",
    "              'is_month_end_emb_0', 'is_month_end_emb_1', 'is_month_start_emb_0', 'is_month_start_emb_1', 'is_quarter_end_emb_0', 'is_quarter_end_emb_1', 'is_quarter_start_emb_0', 'is_quarter_start_emb_1', 'is_year_end_emb_0', 'is_year_end_emb_1', 'is_year_start_emb_0', 'is_year_start_emb_1',\n",
    "              'hour_emb_0', 'hour_emb_1', 'hour_emb_2', 'hour_emb_3', 'hour_emb_4', 'hour_emb_5', 'hour_emb_6', 'hour_emb_7', 'hour_emb_8',\n",
    "              'minute_emb_0', 'minute_emb_1', 'minute_emb_2', 'minute_emb_3', 'minute_emb_4', 'minute_emb_5', 'minute_emb_6', 'minute_emb_7', 'minute_emb_8', 'minute_emb_9', 'minute_emb_10', 'minute_emb_11', 'minute_emb_12', 'minute_emb_13', 'minute_emb_14',\n",
    "              'is_holiday_emb_0', 'is_holiday_emb_1',\n",
    "              'days_since_release_emb_0', 'days_since_release_emb_1', 'days_since_release_emb_2', 'days_since_release_emb_3', 'days_since_release_emb_4', 'days_since_release_emb_5', 'days_since_release_emb_6', 'days_since_release_emb_7', 'days_since_release_emb_8', 'days_since_release_emb_9', 'days_since_release_emb_10', 'days_since_release_emb_11', 'days_since_release_emb_12', 'days_since_release_emb_13', 'days_since_release_emb_14', 'days_since_release_emb_15', 'days_since_release_emb_16', 'days_since_release_emb_17', 'days_since_release_emb_18', 'days_since_release_emb_19', 'days_since_release_emb_20', 'days_since_release_emb_21', 'days_since_release_emb_22', 'days_since_release_emb_23', 'days_since_release_emb_24', 'days_since_release_emb_25', 'days_since_release_emb_26',\n",
    "              'Action_emb_0', 'Action_emb_1',\n",
    "              'Adventure_emb_0', 'Adventure_emb_1',\n",
    "              'Animation_emb_0', 'Animation_emb_1',\n",
    "              'Comedy_emb_0', 'Comedy_emb_1',\n",
    "              'Crime_emb_0', 'Crime_emb_1',\n",
    "              'Documentary_emb_0', 'Documentary_emb_1',\n",
    "              'Drama_emb_0', 'Drama_emb_1',\n",
    "              'Family_emb_0', 'Family_emb_1',\n",
    "              'Fantasy_emb_0', 'Fantasy_emb_1',\n",
    "              'History_emb_0', 'History_emb_1',\n",
    "              'Horror_emb_0', 'Horror_emb_1',\n",
    "              'Music_emb_0', 'Music_emb_1',\n",
    "              'Mystery_emb_0', 'Mystery_emb_1',\n",
    "              'Romance_emb_0', 'Romance_emb_1',\n",
    "              'Science Fiction_emb_0', 'Science Fiction_emb_1',\n",
    "              'TV Movie_emb_0', 'TV Movie_emb_1',\n",
    "              'Thriller_emb_0', 'Thriller_emb_1',\n",
    "              'War_emb_0', 'War_emb_1',\n",
    "              'Western_emb_0', 'Western_emb_1',\n",
    "              'seats',\n",
    "              'tmdb_popularity',\n",
    "              'tmdb_vote_average',\n",
    "              'tmdb_vote_count',\n",
    "              'tmdb_runtime',\n",
    "              'tmdb_budget',\n",
    "              'weekday_cos',\n",
    "              'weekday_sin',\n",
    "              'day_month_cos',\n",
    "              'day_month_sin',\n",
    "              'month_year_cos',\n",
    "              'month_year_sin',\n",
    "              'day_year_cos',\n",
    "              'day_year_sin',\n",
    "              'hour_cos',\n",
    "              'hour_sin',\n",
    "              'clock_cos',\n",
    "              'clock_sin',\n",
    "              'min_cos',\n",
    "              'min_sin',\n",
    "              'sec_cos',\n",
    "              'sec_sin']"
   ]
  },
  {
   "cell_type": "markdown",
   "metadata": {},
   "source": [
    "# Random Forest Regression"
   ]
  },
  {
   "cell_type": "code",
   "execution_count": 12,
   "metadata": {},
   "outputs": [
    {
     "name": "stdout",
     "output_type": "stream",
     "text": [
      "Wall time: 13h 20min 25s\n"
     ]
    },
    {
     "data": {
      "text/plain": [
       "RandomForestRegressor(bootstrap=True, ccp_alpha=0.0, criterion='mae',\n",
       "                      max_depth=2, max_features='sqrt', max_leaf_nodes=None,\n",
       "                      max_samples=None, min_impurity_decrease=0.0,\n",
       "                      min_impurity_split=None, min_samples_leaf=1,\n",
       "                      min_samples_split=2, min_weight_fraction_leaf=0.0,\n",
       "                      n_estimators=10, n_jobs=None, oob_score=False,\n",
       "                      random_state=0, verbose=0, warm_start=False)"
      ]
     },
     "execution_count": 12,
     "metadata": {},
     "output_type": "execute_result"
    }
   ],
   "source": [
    "%%time\n",
    "forest = RandomForestRegressor(n_estimators=10,\n",
    "                               max_depth=2,\n",
    "                               random_state=0,\n",
    "                               criterion='mae',\n",
    "                               max_features='sqrt')\n",
    "train_X, train_y = train.loc[:, cont_names], train.coverage\n",
    "forest.fit(train_X, train_y)"
   ]
  },
  {
   "cell_type": "code",
   "execution_count": 13,
   "metadata": {},
   "outputs": [],
   "source": [
    "valid_X, valid_y = valid.loc[:, cont_names], valid.coverage\n",
    "test_X,  test_y  = test.loc[:, cont_names],  test.coverage\n",
    "\n",
    "train_preds = forest.predict(train_X)\n",
    "valid_preds = forest.predict(valid_X)\n",
    "test_preds  = forest.predict(test_X)"
   ]
  },
  {
   "cell_type": "code",
   "execution_count": 14,
   "metadata": {},
   "outputs": [
    {
     "data": {
      "text/plain": [
       "(0.1526, 0.14, 0.134)"
      ]
     },
     "execution_count": 14,
     "metadata": {},
     "output_type": "execute_result"
    }
   ],
   "source": [
    "(\n",
    "    round(mean_absolute_error(train_y, train_preds), 4),\n",
    "    round(mean_absolute_error(valid_y, valid_preds), 4),\n",
    "    round(mean_absolute_error(test_y,  test_preds),  4)\n",
    ")"
   ]
  },
  {
   "cell_type": "code",
   "execution_count": 15,
   "metadata": {},
   "outputs": [
    {
     "data": {
      "text/plain": [
       "['random_forest_mini.joblib']"
      ]
     },
     "execution_count": 15,
     "metadata": {},
     "output_type": "execute_result"
    }
   ],
   "source": [
    "dump(forest, 'random_forest_mini.joblib')"
   ]
  }
 ],
 "metadata": {
  "kernelspec": {
   "display_name": "Python 3",
   "language": "python",
   "name": "python3"
  },
  "language_info": {
   "codemirror_mode": {
    "name": "ipython",
    "version": 3
   },
   "file_extension": ".py",
   "mimetype": "text/x-python",
   "name": "python",
   "nbconvert_exporter": "python",
   "pygments_lexer": "ipython3",
   "version": "3.7.2"
  }
 },
 "nbformat": 4,
 "nbformat_minor": 4
}
