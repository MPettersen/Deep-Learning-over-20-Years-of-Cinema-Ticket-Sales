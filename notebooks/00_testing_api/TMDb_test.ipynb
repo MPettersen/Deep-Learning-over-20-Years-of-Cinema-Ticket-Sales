{
 "cells": [
  {
   "cell_type": "markdown",
   "metadata": {},
   "source": [
    "# Notebook for testing the TMDb API\n",
    "\n",
    "Used to test the TMDb API to get a feel of how it works what data it contains and how it can be used for the thesis"
   ]
  },
  {
   "cell_type": "code",
   "execution_count": 1,
   "metadata": {},
   "outputs": [],
   "source": [
    "from tmdbv3api import TMDb, Movie, Discover, Genre"
   ]
  },
  {
   "cell_type": "markdown",
   "metadata": {},
   "source": [
    "## Reading keys necessary for accessing the TMDb and OMDb"
   ]
  },
  {
   "cell_type": "code",
   "execution_count": 2,
   "metadata": {},
   "outputs": [],
   "source": [
    "with open('C:/Users/marku/OneDrive/Skrivebord/TMDBkeys.txt') as keys:\n",
    "    application_key = keys.readline().strip()"
   ]
  },
  {
   "cell_type": "code",
   "execution_count": 3,
   "metadata": {},
   "outputs": [],
   "source": [
    "with open('C:/Users/marku/OneDrive/Skrivebord/OMDBkeys.txt') as keys:\n",
    "    omdb_key = keys.readline().strip()"
   ]
  },
  {
   "cell_type": "markdown",
   "metadata": {},
   "source": [
    "## Setting up the connection with the TMDb server"
   ]
  },
  {
   "cell_type": "code",
   "execution_count": 4,
   "metadata": {},
   "outputs": [],
   "source": [
    "tmdb = TMDb()\n",
    "tmdb.api_key = application_key\n",
    "movie = Movie()\n",
    "genres = Genre()"
   ]
  },
  {
   "cell_type": "code",
   "execution_count": 5,
   "metadata": {},
   "outputs": [],
   "source": [
    "all_genres = genres.movie_list()"
   ]
  },
  {
   "cell_type": "code",
   "execution_count": 6,
   "metadata": {},
   "outputs": [],
   "source": [
    "genre = dict()\n",
    "for i in all_genres:\n",
    "    genre[i.id] = i.name"
   ]
  },
  {
   "cell_type": "code",
   "execution_count": 7,
   "metadata": {},
   "outputs": [
    {
     "data": {
      "text/plain": [
       "[Piglet's Big Movie]"
      ]
     },
     "execution_count": 7,
     "metadata": {},
     "output_type": "execute_result"
    }
   ],
   "source": [
    "movie.search('nasse nøff')"
   ]
  },
  {
   "cell_type": "code",
   "execution_count": 8,
   "metadata": {},
   "outputs": [
    {
     "data": {
      "text/plain": [
       "[Jack Frost 2: Revenge of the Mutant Killer Snowman,\n",
       " Frost/Nixon,\n",
       " Frosty the Snowman,\n",
       " Frosty Returns,\n",
       " Jack Frost,\n",
       " Frostbitten,\n",
       " Jack Frost,\n",
       " Frosty's Winter Wonderland,\n",
       " Before the Frost,\n",
       " The Inner Life of Martin Frost,\n",
       " Mister Frost,\n",
       " Father Frost,\n",
       " The Legend of Frosty the Snowman,\n",
       " An Early Frost,\n",
       " Jack Frost,\n",
       " Wallander 01 - Innan Frosten,\n",
       " Frost: Portrait of a Vampire,\n",
       " Frost,\n",
       " Rudolph and Frosty's Christmas in July,\n",
       " Frost]"
      ]
     },
     "execution_count": 8,
     "metadata": {},
     "output_type": "execute_result"
    }
   ],
   "source": [
    "movie.search('frost 2')"
   ]
  },
  {
   "cell_type": "code",
   "execution_count": 9,
   "metadata": {},
   "outputs": [],
   "source": [
    "m = movie.details(8961)"
   ]
  },
  {
   "cell_type": "code",
   "execution_count": 10,
   "metadata": {},
   "outputs": [
    {
     "data": {
      "text/plain": [
       "147"
      ]
     },
     "execution_count": 10,
     "metadata": {},
     "output_type": "execute_result"
    }
   ],
   "source": [
    "m.runtime"
   ]
  },
  {
   "cell_type": "code",
   "execution_count": 11,
   "metadata": {},
   "outputs": [
    {
     "data": {
      "text/plain": [
       "dict"
      ]
     },
     "execution_count": 11,
     "metadata": {},
     "output_type": "execute_result"
    }
   ],
   "source": [
    "type(m.entries)"
   ]
  },
  {
   "cell_type": "code",
   "execution_count": 12,
   "metadata": {},
   "outputs": [
    {
     "data": {
      "text/plain": [
       "['adult',\n",
       " 'backdrop_path',\n",
       " 'belongs_to_collection',\n",
       " 'budget',\n",
       " 'genres',\n",
       " 'homepage',\n",
       " 'id',\n",
       " 'imdb_id',\n",
       " 'original_language',\n",
       " 'original_title',\n",
       " 'overview',\n",
       " 'popularity',\n",
       " 'poster_path',\n",
       " 'production_companies',\n",
       " 'production_countries',\n",
       " 'release_date',\n",
       " 'revenue',\n",
       " 'runtime',\n",
       " 'spoken_languages',\n",
       " 'status',\n",
       " 'tagline',\n",
       " 'title',\n",
       " 'video',\n",
       " 'vote_average',\n",
       " 'vote_count',\n",
       " 'videos',\n",
       " 'trailers',\n",
       " 'images',\n",
       " 'casts',\n",
       " 'translations',\n",
       " 'keywords']"
      ]
     },
     "execution_count": 12,
     "metadata": {},
     "output_type": "execute_result"
    }
   ],
   "source": [
    "list(m.entries.keys())"
   ]
  },
  {
   "cell_type": "code",
   "execution_count": 13,
   "metadata": {},
   "outputs": [
    {
     "data": {
      "text/plain": [
       "{'popularity': 10.209,\n",
       " 'vote_count': 650,\n",
       " 'video': False,\n",
       " 'poster_path': '/u0M5TxAl9Kmuzf6awElmP7Ue0L.jpg',\n",
       " 'id': 14451,\n",
       " 'adult': False,\n",
       " 'backdrop_path': '/ZWzkZV8h4Ryhhb2cV49QOxxBds.jpg',\n",
       " 'original_language': 'no',\n",
       " 'original_title': 'Død snø',\n",
       " 'genre_ids': [35, 27],\n",
       " 'title': 'Dead Snow',\n",
       " 'vote_average': 6,\n",
       " 'overview': \"Eight medical students on a ski trip to Norway discover that Hitler's horrors live on when they come face to face with a battalion of zombie Nazi soldiers intent on devouring anyone unfortunate enough to wander into the remote mountains where they were once sent to die.\",\n",
       " 'release_date': '2009-01-09'}"
      ]
     },
     "execution_count": 13,
     "metadata": {},
     "output_type": "execute_result"
    }
   ],
   "source": [
    "s = movie.search('død snø 1')\n",
    "\n",
    "s[0].entries"
   ]
  }
 ],
 "metadata": {
  "kernelspec": {
   "display_name": "Python 3",
   "language": "python",
   "name": "python3"
  },
  "language_info": {
   "codemirror_mode": {
    "name": "ipython",
    "version": 3
   },
   "file_extension": ".py",
   "mimetype": "text/x-python",
   "name": "python",
   "nbconvert_exporter": "python",
   "pygments_lexer": "ipython3",
   "version": "3.7.2"
  }
 },
 "nbformat": 4,
 "nbformat_minor": 4
}
