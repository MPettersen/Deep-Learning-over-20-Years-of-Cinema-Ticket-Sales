{
 "cells": [
  {
   "cell_type": "markdown",
   "metadata": {},
   "source": [
    "# Notebook for exploring the data from DX\n",
    "\n",
    "Used for initial exploration of the data to get a feel of the general structure"
   ]
  },
  {
   "cell_type": "code",
   "execution_count": 13,
   "metadata": {},
   "outputs": [],
   "source": [
    "import math\n",
    "import pandas as pd"
   ]
  },
  {
   "cell_type": "code",
   "execution_count": 2,
   "metadata": {},
   "outputs": [
    {
     "data": {
      "text/html": [
       "<div>\n",
       "<style scoped>\n",
       "    .dataframe tbody tr th:only-of-type {\n",
       "        vertical-align: middle;\n",
       "    }\n",
       "\n",
       "    .dataframe tbody tr th {\n",
       "        vertical-align: top;\n",
       "    }\n",
       "\n",
       "    .dataframe thead th {\n",
       "        text-align: right;\n",
       "    }\n",
       "</style>\n",
       "<table border=\"1\" class=\"dataframe\">\n",
       "  <thead>\n",
       "    <tr style=\"text-align: right;\">\n",
       "      <th></th>\n",
       "      <th>Std_filmnr</th>\n",
       "      <th>Titttel</th>\n",
       "      <th>arr_nr</th>\n",
       "      <th>ClaDate (xforest.Dato)</th>\n",
       "      <th>ClaTime (xforest.Kl)</th>\n",
       "      <th>solgt</th>\n",
       "      <th>Sal</th>\n",
       "      <th>Plasser</th>\n",
       "      <th>plasser</th>\n",
       "      <th>dekning</th>\n",
       "    </tr>\n",
       "  </thead>\n",
       "  <tbody>\n",
       "    <tr>\n",
       "      <th>0</th>\n",
       "      <td>BVI20190484</td>\n",
       "      <td>Frost 2</td>\n",
       "      <td>3</td>\n",
       "      <td>2020-01-18T23:00:00.000Z</td>\n",
       "      <td>18:00:00</td>\n",
       "      <td>81</td>\n",
       "      <td>1</td>\n",
       "      <td>214</td>\n",
       "      <td>212</td>\n",
       "      <td>0.378505</td>\n",
       "    </tr>\n",
       "    <tr>\n",
       "      <th>1</th>\n",
       "      <td>NOR20190353</td>\n",
       "      <td>Tunnelen</td>\n",
       "      <td>4</td>\n",
       "      <td>2020-01-18T23:00:00.000Z</td>\n",
       "      <td>20:15:00</td>\n",
       "      <td>73</td>\n",
       "      <td>1</td>\n",
       "      <td>214</td>\n",
       "      <td>212</td>\n",
       "      <td>0.341121</td>\n",
       "    </tr>\n",
       "  </tbody>\n",
       "</table>\n",
       "</div>"
      ],
      "text/plain": [
       "    Std_filmnr   Titttel  arr_nr    ClaDate (xforest.Dato)  \\\n",
       "0  BVI20190484   Frost 2       3  2020-01-18T23:00:00.000Z   \n",
       "1  NOR20190353  Tunnelen       4  2020-01-18T23:00:00.000Z   \n",
       "\n",
       "  ClaTime (xforest.Kl)  solgt  Sal  Plasser  plasser   dekning  \n",
       "0             18:00:00     81    1      214      212  0.378505  \n",
       "1             20:15:00     73    1      214      212  0.341121  "
      ]
     },
     "execution_count": 2,
     "metadata": {},
     "output_type": "execute_result"
    }
   ],
   "source": [
    "pd.read_json('K:/team/dxcn.master_uis/data/320.json', encoding='utf-8')"
   ]
  },
  {
   "cell_type": "code",
   "execution_count": 3,
   "metadata": {},
   "outputs": [],
   "source": [
    "b = pd.read_json('K:/team/dxcn.master_uis/data/178.json', encoding='utf-8')\n",
    "b.set_index('arr_nr', inplace=True)"
   ]
  },
  {
   "cell_type": "code",
   "execution_count": 4,
   "metadata": {},
   "outputs": [],
   "source": [
    "b.columns = pd.Index([\n",
    "    'std_movienr',\n",
    "    'title',\n",
    "    'date',\n",
    "    'showtime',\n",
    "    'sold',\n",
    "    'room',\n",
    "    'seats',\n",
    "    'seats_b',\n",
    "    'coverage'\n",
    "])"
   ]
  },
  {
   "cell_type": "code",
   "execution_count": 5,
   "metadata": {},
   "outputs": [],
   "source": [
    "b.loc[:, b.showtime.name] = b.date.str[:10] + ' ' + b.showtime.str[:]\n",
    "b.drop(columns=['date'], inplace=True)\n",
    "b.showtime = pd.to_datetime(b.showtime, format='%Y-%m-%d %H:%M:%S')"
   ]
  },
  {
   "cell_type": "code",
   "execution_count": 6,
   "metadata": {},
   "outputs": [
    {
     "data": {
      "text/html": [
       "<div>\n",
       "<style scoped>\n",
       "    .dataframe tbody tr th:only-of-type {\n",
       "        vertical-align: middle;\n",
       "    }\n",
       "\n",
       "    .dataframe tbody tr th {\n",
       "        vertical-align: top;\n",
       "    }\n",
       "\n",
       "    .dataframe thead th {\n",
       "        text-align: right;\n",
       "    }\n",
       "</style>\n",
       "<table border=\"1\" class=\"dataframe\">\n",
       "  <thead>\n",
       "    <tr style=\"text-align: right;\">\n",
       "      <th></th>\n",
       "      <th>std_movienr</th>\n",
       "      <th>title</th>\n",
       "      <th>showtime</th>\n",
       "      <th>sold</th>\n",
       "      <th>room</th>\n",
       "      <th>seats</th>\n",
       "      <th>seats_b</th>\n",
       "      <th>coverage</th>\n",
       "    </tr>\n",
       "    <tr>\n",
       "      <th>arr_nr</th>\n",
       "      <th></th>\n",
       "      <th></th>\n",
       "      <th></th>\n",
       "      <th></th>\n",
       "      <th></th>\n",
       "      <th></th>\n",
       "      <th></th>\n",
       "      <th></th>\n",
       "    </tr>\n",
       "  </thead>\n",
       "  <tbody>\n",
       "    <tr>\n",
       "      <th>63005</th>\n",
       "      <td>ART20040912</td>\n",
       "      <td>SINGIN' IN THE RAIN</td>\n",
       "      <td>2016-09-09 21:30:00</td>\n",
       "      <td>110</td>\n",
       "      <td>49</td>\n",
       "      <td>0</td>\n",
       "      <td>NaN</td>\n",
       "      <td>NaN</td>\n",
       "    </tr>\n",
       "    <tr>\n",
       "      <th>73504</th>\n",
       "      <td>ART20020337</td>\n",
       "      <td>TROLLMANNEN FRA OZ</td>\n",
       "      <td>2017-09-15 20:30:00</td>\n",
       "      <td>140</td>\n",
       "      <td>49</td>\n",
       "      <td>0</td>\n",
       "      <td>NaN</td>\n",
       "      <td>NaN</td>\n",
       "    </tr>\n",
       "    <tr>\n",
       "      <th>63004</th>\n",
       "      <td>SFN20070486</td>\n",
       "      <td>LANGE FLATE BALLÆR 2</td>\n",
       "      <td>2016-09-08 21:30:00</td>\n",
       "      <td>170</td>\n",
       "      <td>49</td>\n",
       "      <td>0</td>\n",
       "      <td>NaN</td>\n",
       "      <td>NaN</td>\n",
       "    </tr>\n",
       "    <tr>\n",
       "      <th>73503</th>\n",
       "      <td>SFN20051006</td>\n",
       "      <td>LANGE FLATE BALLÆR</td>\n",
       "      <td>2017-09-14 21:30:00</td>\n",
       "      <td>200</td>\n",
       "      <td>49</td>\n",
       "      <td>0</td>\n",
       "      <td>NaN</td>\n",
       "      <td>NaN</td>\n",
       "    </tr>\n",
       "    <tr>\n",
       "      <th>61111</th>\n",
       "      <td>UIP20151178</td>\n",
       "      <td>WAR ROOM</td>\n",
       "      <td>2016-07-15 22:30:00</td>\n",
       "      <td>138</td>\n",
       "      <td>81</td>\n",
       "      <td>0</td>\n",
       "      <td>NaN</td>\n",
       "      <td>NaN</td>\n",
       "    </tr>\n",
       "  </tbody>\n",
       "</table>\n",
       "</div>"
      ],
      "text/plain": [
       "        std_movienr                 title            showtime  sold  room  \\\n",
       "arr_nr                                                                      \n",
       "63005   ART20040912   SINGIN' IN THE RAIN 2016-09-09 21:30:00   110    49   \n",
       "73504   ART20020337    TROLLMANNEN FRA OZ 2017-09-15 20:30:00   140    49   \n",
       "63004   SFN20070486  LANGE FLATE BALLÆR 2 2016-09-08 21:30:00   170    49   \n",
       "73503   SFN20051006    LANGE FLATE BALLÆR 2017-09-14 21:30:00   200    49   \n",
       "61111   UIP20151178              WAR ROOM 2016-07-15 22:30:00   138    81   \n",
       "\n",
       "        seats  seats_b  coverage  \n",
       "arr_nr                            \n",
       "63005       0      NaN       NaN  \n",
       "73504       0      NaN       NaN  \n",
       "63004       0      NaN       NaN  \n",
       "73503       0      NaN       NaN  \n",
       "61111       0      NaN       NaN  "
      ]
     },
     "execution_count": 6,
     "metadata": {},
     "output_type": "execute_result"
    }
   ],
   "source": [
    "b.tail()"
   ]
  },
  {
   "cell_type": "code",
   "execution_count": 7,
   "metadata": {},
   "outputs": [
    {
     "data": {
      "text/plain": [
       "['SOLAN OG LUDVIG - HERFRA TIL FLÅKLYPA',\n",
       " 'STAR WARS 3D: THE FORCE AWAKENS',\n",
       " 'JULEKONGEN - FULL RUSTNING',\n",
       " 'DOKTOR PROKTORS TIDSBADEKAR',\n",
       " 'JAMES BOND: SPECTRE',\n",
       " 'SOLAN OG LUDVIG - HERFRA TIL FLÅKLYPA',\n",
       " 'STAR WARS 2D: THE FORCE AWAKENS',\n",
       " 'SNOOPY OG CHARLIE BROWN: KNØTTENE-FILMEN (2D, NORSK TALE)',\n",
       " 'THE HUNGER GAMES 2D: MOCKINGJAY PART 2',\n",
       " 'STAR WARS 3D: THE FORCE AWAKENS']"
      ]
     },
     "execution_count": 7,
     "metadata": {},
     "output_type": "execute_result"
    }
   ],
   "source": [
    "b.sort_values('showtime').title.tolist()[:10]"
   ]
  },
  {
   "cell_type": "code",
   "execution_count": 8,
   "metadata": {},
   "outputs": [],
   "source": [
    "b.sort_values(by='showtime', inplace=True)"
   ]
  },
  {
   "cell_type": "code",
   "execution_count": 9,
   "metadata": {},
   "outputs": [
    {
     "data": {
      "text/html": [
       "<div>\n",
       "<style scoped>\n",
       "    .dataframe tbody tr th:only-of-type {\n",
       "        vertical-align: middle;\n",
       "    }\n",
       "\n",
       "    .dataframe tbody tr th {\n",
       "        vertical-align: top;\n",
       "    }\n",
       "\n",
       "    .dataframe thead th {\n",
       "        text-align: right;\n",
       "    }\n",
       "</style>\n",
       "<table border=\"1\" class=\"dataframe\">\n",
       "  <thead>\n",
       "    <tr style=\"text-align: right;\">\n",
       "      <th></th>\n",
       "      <th>std_movienr</th>\n",
       "      <th>title</th>\n",
       "      <th>showtime</th>\n",
       "      <th>sold</th>\n",
       "      <th>room</th>\n",
       "      <th>seats</th>\n",
       "      <th>seats_b</th>\n",
       "      <th>coverage</th>\n",
       "    </tr>\n",
       "    <tr>\n",
       "      <th>arr_nr</th>\n",
       "      <th></th>\n",
       "      <th></th>\n",
       "      <th></th>\n",
       "      <th></th>\n",
       "      <th></th>\n",
       "      <th></th>\n",
       "      <th></th>\n",
       "      <th></th>\n",
       "    </tr>\n",
       "  </thead>\n",
       "  <tbody>\n",
       "    <tr>\n",
       "      <th>56036</th>\n",
       "      <td>NOR20140585</td>\n",
       "      <td>SOLAN OG LUDVIG - HERFRA TIL FLÅKLYPA</td>\n",
       "      <td>2015-12-31 12:00:00</td>\n",
       "      <td>11</td>\n",
       "      <td>2</td>\n",
       "      <td>335</td>\n",
       "      <td>335.0</td>\n",
       "      <td>0.032836</td>\n",
       "    </tr>\n",
       "    <tr>\n",
       "      <th>56038</th>\n",
       "      <td>BVI20141301</td>\n",
       "      <td>STAR WARS 3D: THE FORCE AWAKENS</td>\n",
       "      <td>2015-12-31 12:15:00</td>\n",
       "      <td>11</td>\n",
       "      <td>5</td>\n",
       "      <td>112</td>\n",
       "      <td>110.0</td>\n",
       "      <td>0.098214</td>\n",
       "    </tr>\n",
       "    <tr>\n",
       "      <th>56040</th>\n",
       "      <td>NOR20141297</td>\n",
       "      <td>JULEKONGEN - FULL RUSTNING</td>\n",
       "      <td>2015-12-31 12:30:00</td>\n",
       "      <td>24</td>\n",
       "      <td>4</td>\n",
       "      <td>117</td>\n",
       "      <td>115.0</td>\n",
       "      <td>0.205128</td>\n",
       "    </tr>\n",
       "    <tr>\n",
       "      <th>56212</th>\n",
       "      <td>NOR20140583</td>\n",
       "      <td>DOKTOR PROKTORS TIDSBADEKAR</td>\n",
       "      <td>2015-12-31 12:45:00</td>\n",
       "      <td>19</td>\n",
       "      <td>6</td>\n",
       "      <td>50</td>\n",
       "      <td>48.0</td>\n",
       "      <td>0.380000</td>\n",
       "    </tr>\n",
       "    <tr>\n",
       "      <th>56207</th>\n",
       "      <td>SFN20150017</td>\n",
       "      <td>JAMES BOND: SPECTRE</td>\n",
       "      <td>2015-12-31 13:15:00</td>\n",
       "      <td>14</td>\n",
       "      <td>1</td>\n",
       "      <td>70</td>\n",
       "      <td>70.0</td>\n",
       "      <td>0.200000</td>\n",
       "    </tr>\n",
       "  </tbody>\n",
       "</table>\n",
       "</div>"
      ],
      "text/plain": [
       "        std_movienr                                  title  \\\n",
       "arr_nr                                                       \n",
       "56036   NOR20140585  SOLAN OG LUDVIG - HERFRA TIL FLÅKLYPA   \n",
       "56038   BVI20141301        STAR WARS 3D: THE FORCE AWAKENS   \n",
       "56040   NOR20141297             JULEKONGEN - FULL RUSTNING   \n",
       "56212   NOR20140583            DOKTOR PROKTORS TIDSBADEKAR   \n",
       "56207   SFN20150017                    JAMES BOND: SPECTRE   \n",
       "\n",
       "                  showtime  sold  room  seats  seats_b  coverage  \n",
       "arr_nr                                                            \n",
       "56036  2015-12-31 12:00:00    11     2    335    335.0  0.032836  \n",
       "56038  2015-12-31 12:15:00    11     5    112    110.0  0.098214  \n",
       "56040  2015-12-31 12:30:00    24     4    117    115.0  0.205128  \n",
       "56212  2015-12-31 12:45:00    19     6     50     48.0  0.380000  \n",
       "56207  2015-12-31 13:15:00    14     1     70     70.0  0.200000  "
      ]
     },
     "execution_count": 9,
     "metadata": {},
     "output_type": "execute_result"
    }
   ],
   "source": [
    "b.head()"
   ]
  },
  {
   "cell_type": "code",
   "execution_count": 11,
   "metadata": {},
   "outputs": [],
   "source": [
    "early_showings  = b.loc[b.showtime.dt.strftime('%H:%M:%S').between('08:00:00','13:00:00')]\n",
    "middle_showings = b.loc[b.showtime.dt.strftime('%H:%M:%S').between('13:00:01','18:00:00')]\n",
    "late_showings   = b.loc[b.showtime.dt.strftime('%H:%M:%S').between('18:00:01','23:59:59')]"
   ]
  },
  {
   "cell_type": "code",
   "execution_count": 12,
   "metadata": {},
   "outputs": [],
   "source": [
    "years = [str(year) for year in range(2006, 2021)]"
   ]
  },
  {
   "cell_type": "code",
   "execution_count": 14,
   "metadata": {},
   "outputs": [
    {
     "name": "stdout",
     "output_type": "stream",
     "text": [
      "2006 \t\t\tAVG coverage \tAVG tickets sold \tAVG room size \tNumber of showings\n",
      "Early showings: \t0 \t\t0 \t\t\t0 \t\t0\n",
      "Middle showings: \t0 \t\t0 \t\t\t0 \t\t0\n",
      "Late showings: \t\t0 \t\t0 \t\t\t0 \t\t0\n",
      "\n",
      "2007 \t\t\tAVG coverage \tAVG tickets sold \tAVG room size \tNumber of showings\n",
      "Early showings: \t0 \t\t0 \t\t\t0 \t\t0\n",
      "Middle showings: \t0 \t\t0 \t\t\t0 \t\t0\n",
      "Late showings: \t\t0 \t\t0 \t\t\t0 \t\t0\n",
      "\n",
      "2008 \t\t\tAVG coverage \tAVG tickets sold \tAVG room size \tNumber of showings\n",
      "Early showings: \t0 \t\t0 \t\t\t0 \t\t0\n",
      "Middle showings: \t0 \t\t0 \t\t\t0 \t\t0\n",
      "Late showings: \t\t0 \t\t0 \t\t\t0 \t\t0\n",
      "\n",
      "2009 \t\t\tAVG coverage \tAVG tickets sold \tAVG room size \tNumber of showings\n",
      "Early showings: \t0 \t\t0 \t\t\t0 \t\t0\n",
      "Middle showings: \t0 \t\t0 \t\t\t0 \t\t0\n",
      "Late showings: \t\t0 \t\t0 \t\t\t0 \t\t0\n",
      "\n",
      "2010 \t\t\tAVG coverage \tAVG tickets sold \tAVG room size \tNumber of showings\n",
      "Early showings: \t0 \t\t0 \t\t\t0 \t\t0\n",
      "Middle showings: \t0 \t\t0 \t\t\t0 \t\t0\n",
      "Late showings: \t\t0 \t\t0 \t\t\t0 \t\t0\n",
      "\n",
      "2011 \t\t\tAVG coverage \tAVG tickets sold \tAVG room size \tNumber of showings\n",
      "Early showings: \t0 \t\t0 \t\t\t0 \t\t0\n",
      "Middle showings: \t0 \t\t0 \t\t\t0 \t\t0\n",
      "Late showings: \t\t0 \t\t0 \t\t\t0 \t\t0\n",
      "\n",
      "2012 \t\t\tAVG coverage \tAVG tickets sold \tAVG room size \tNumber of showings\n",
      "Early showings: \t0 \t\t0 \t\t\t0 \t\t0\n",
      "Middle showings: \t0 \t\t0 \t\t\t0 \t\t0\n",
      "Late showings: \t\t0 \t\t0 \t\t\t0 \t\t0\n",
      "\n",
      "2013 \t\t\tAVG coverage \tAVG tickets sold \tAVG room size \tNumber of showings\n",
      "Early showings: \t0 \t\t0 \t\t\t0 \t\t0\n",
      "Middle showings: \t0 \t\t0 \t\t\t0 \t\t0\n",
      "Late showings: \t\t0 \t\t0 \t\t\t0 \t\t0\n",
      "\n",
      "2014 \t\t\tAVG coverage \tAVG tickets sold \tAVG room size \tNumber of showings\n",
      "Early showings: \t0 \t\t0 \t\t\t0 \t\t0\n",
      "Middle showings: \t0 \t\t0 \t\t\t0 \t\t0\n",
      "Late showings: \t\t0 \t\t0 \t\t\t0 \t\t0\n",
      "\n",
      "2015 \t\t\tAVG coverage \tAVG tickets sold \tAVG room size \tNumber of showings\n",
      "Early showings: \t0.179 \t\t16 \t\t\t153 \t\t4\n",
      "Middle showings: \t0.362 \t\t51 \t\t\t168 \t\t12\n",
      "Late showings: \t\t0.491 \t\t57 \t\t\t149 \t\t12\n",
      "\n",
      "2016 \t\t\tAVG coverage \tAVG tickets sold \tAVG room size \tNumber of showings\n",
      "Early showings: \t0.211 \t\t32 \t\t\t158 \t\t987\n",
      "Middle showings: \t0.215 \t\t31 \t\t\t150 \t\t3614\n",
      "Late showings: \t\t0.294 \t\t42 \t\t\t146 \t\t3497\n",
      "\n",
      "2017 \t\t\tAVG coverage \tAVG tickets sold \tAVG room size \tNumber of showings\n",
      "Early showings: \t0.193 \t\t30 \t\t\t159 \t\t940\n",
      "Middle showings: \t0.196 \t\t28 \t\t\t151 \t\t3669\n",
      "Late showings: \t\t0.265 \t\t39 \t\t\t151 \t\t3518\n",
      "\n",
      "2018 \t\t\tAVG coverage \tAVG tickets sold \tAVG room size \tNumber of showings\n",
      "Early showings: \t0.217 \t\t34 \t\t\t161 \t\t1018\n",
      "Middle showings: \t0.2 \t\t28 \t\t\t149 \t\t3582\n",
      "Late showings: \t\t0.276 \t\t41 \t\t\t147 \t\t3531\n",
      "\n",
      "2019 \t\t\tAVG coverage \tAVG tickets sold \tAVG room size \tNumber of showings\n",
      "Early showings: \t0.198 \t\t30 \t\t\t158 \t\t1160\n",
      "Middle showings: \t0.198 \t\t28 \t\t\t149 \t\t3699\n",
      "Late showings: \t\t0.239 \t\t33 \t\t\t147 \t\t3518\n",
      "\n",
      "2020 \t\t\tAVG coverage \tAVG tickets sold \tAVG room size \tNumber of showings\n",
      "Early showings: \t0.23 \t\t34 \t\t\t162 \t\t66\n",
      "Middle showings: \t0.184 \t\t26 \t\t\t151 \t\t196\n",
      "Late showings: \t\t0.244 \t\t33 \t\t\t149 \t\t195\n",
      "\n"
     ]
    }
   ],
   "source": [
    "for year in years:\n",
    "    early_cove = round(early_showings.loc[early_showings.showtime.dt.strftime('%Y').between(year, year), 'coverage'].mean(), 3)\n",
    "    early_sold = round(early_showings.loc[early_showings.showtime.dt.strftime('%Y').between(year, year), 'sold'].mean(), 3)\n",
    "    early_size = round(early_showings.loc[early_showings.showtime.dt.strftime('%Y').between(year, year), 'seats'].mean(), 3)\n",
    "    if math.isnan(early_cove): early_cove = 0\n",
    "    if math.isnan(early_sold): early_sold = 0\n",
    "    if math.isnan(early_size): early_size = 0\n",
    "    \n",
    "    middle_cove = round(middle_showings.loc[middle_showings.showtime.dt.strftime('%Y').between(year, year), 'coverage'].mean(), 3)\n",
    "    middle_sold = round(middle_showings.loc[middle_showings.showtime.dt.strftime('%Y').between(year, year), 'sold'].mean(), 3)\n",
    "    middle_size = round(middle_showings.loc[middle_showings.showtime.dt.strftime('%Y').between(year, year), 'seats'].mean(), 3)\n",
    "    if math.isnan(middle_cove): middle_cove = 0\n",
    "    if math.isnan(middle_sold): middle_sold = 0\n",
    "    if math.isnan(middle_size): middle_size = 0\n",
    "        \n",
    "    late_cove = round(late_showings.loc[late_showings.showtime.dt.strftime('%Y').between(year, year), 'coverage'].mean(), 3)\n",
    "    late_sold = round(late_showings.loc[late_showings.showtime.dt.strftime('%Y').between(year, year), 'sold'].mean(), 3)\n",
    "    late_size = round(late_showings.loc[late_showings.showtime.dt.strftime('%Y').between(year, year), 'seats'].mean(), 3)\n",
    "    if math.isnan(late_cove): late_cove = 0\n",
    "    if math.isnan(late_sold): late_sold = 0\n",
    "    if math.isnan(late_size): late_size = 0\n",
    "    \n",
    "    print('{} \\t\\t\\tAVG coverage \\tAVG tickets sold \\tAVG room size \\tNumber of showings'.format(year))\n",
    "    print('Early showings: \\t{} \\t\\t{} \\t\\t\\t{} \\t\\t{}'.format(\n",
    "        early_cove,\n",
    "        int(early_sold),\n",
    "        int(early_size),\n",
    "        early_showings.loc[early_showings.showtime.dt.strftime('%Y').between(year, year)].shape[0]\n",
    "    ))\n",
    "    print('Middle showings: \\t{} \\t\\t{} \\t\\t\\t{} \\t\\t{}'.format(\n",
    "        middle_cove,\n",
    "        int(middle_sold),\n",
    "        int(middle_size),\n",
    "        middle_showings.loc[middle_showings.showtime.dt.strftime('%Y').between(year, year)].shape[0]\n",
    "    ))\n",
    "    print('Late showings: \\t\\t{} \\t\\t{} \\t\\t\\t{} \\t\\t{}'.format(\n",
    "        late_cove,\n",
    "        int(late_sold),\n",
    "        int(late_size),\n",
    "        late_showings.loc[late_showings.showtime.dt.strftime('%Y').between(year, year)].shape[0]\n",
    "    ))\n",
    "    print()"
   ]
  },
  {
   "cell_type": "code",
   "execution_count": 15,
   "metadata": {},
   "outputs": [
    {
     "data": {
      "text/plain": [
       "<matplotlib.axes._subplots.AxesSubplot at 0x2c09b141f60>"
      ]
     },
     "execution_count": 15,
     "metadata": {},
     "output_type": "execute_result"
    },
    {
     "data": {
      "image/png": "[encoded data removed]",
      "text/plain": [
       "<Figure size 432x288 with 1 Axes>"
      ]
     },
     "metadata": {
      "needs_background": "light"
     },
     "output_type": "display_data"
    }
   ],
   "source": [
    "b.plot(y='coverage', x='showtime', style='o')"
   ]
  },
  {
   "cell_type": "code",
   "execution_count": 16,
   "metadata": {},
   "outputs": [
    {
     "data": {
      "text/plain": [
       "(0.2683899206043562, 0.2053217423451962)"
      ]
     },
     "execution_count": 16,
     "metadata": {},
     "output_type": "execute_result"
    }
   ],
   "source": [
    "late_showings.coverage.mean(), early_showings.coverage.mean()"
   ]
  },
  {
   "cell_type": "code",
   "execution_count": 17,
   "metadata": {},
   "outputs": [
    {
     "data": {
      "text/plain": [
       "array(['solan og ludvig - herfra til flåklypa',\n",
       "       'star wars 3d: the force awakens', 'julekongen - full rustning',\n",
       "       ..., '1917 (2d, atmos, norsk tekst)', 'little women',\n",
       "       'richard says goodbye'], dtype=object)"
      ]
     },
     "execution_count": 17,
     "metadata": {},
     "output_type": "execute_result"
    }
   ],
   "source": [
    "b.title.str.lower().unique()"
   ]
  }
 ],
 "metadata": {
  "kernelspec": {
   "display_name": "Python 3",
   "language": "python",
   "name": "python3"
  },
  "language_info": {
   "codemirror_mode": {
    "name": "ipython",
    "version": 3
   },
   "file_extension": ".py",
   "mimetype": "text/x-python",
   "name": "python",
   "nbconvert_exporter": "python",
   "pygments_lexer": "ipython3",
   "version": "3.7.2"
  }
 },
 "nbformat": 4,
 "nbformat_minor": 4
}
